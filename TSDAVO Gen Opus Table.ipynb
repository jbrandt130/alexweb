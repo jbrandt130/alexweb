{
 "cells": [
  {
   "cell_type": "code",
   "execution_count": 1,
   "metadata": {},
   "outputs": [
    {
     "name": "stderr",
     "output_type": "stream",
     "text": [
      "/usr/local/anaconda3/lib/python3.8/site-packages/pandas/core/computation/expressions.py:20: UserWarning: Pandas requires version '2.7.3' or newer of 'numexpr' (version '2.7.1' currently installed).\n",
      "  from pandas.core.computation.check import NUMEXPR_INSTALLED\n"
     ]
    }
   ],
   "source": [
    "import requests\n",
    "import json\n",
    "from bs4 import BeautifulSoup\n",
    "from openpyxl import Workbook, load_workbook\n",
    "import re"
   ]
  },
  {
   "cell_type": "code",
   "execution_count": 2,
   "metadata": {},
   "outputs": [],
   "source": [
    "from tsdavo import FondCollection, base, load_fond, index_fonds, OpusTable, translation"
   ]
  },
  {
   "cell_type": "code",
   "execution_count": 3,
   "metadata": {},
   "outputs": [],
   "source": [
    "def do_opi(opi):\n",
    "    for o in opi:\n",
    "        t = OpusTable(o[0], o[1])\n",
    "        t.load()\n",
    "        t.export()"
   ]
  },
  {
   "cell_type": "code",
   "execution_count": 4,
   "metadata": {},
   "outputs": [
    {
     "name": "stdout",
     "output_type": "stream",
     "text": [
      "saving 2791 rows to TSDAVO Opus 5-1.xlsx\n",
      "saving 2823 rows to TSDAVO Opus 5-2.xlsx\n",
      "saving 108 rows to TSDAVO Opus 5-3.xlsx\n",
      "saving 182 rows to TSDAVO Opus 5-4.xlsx\n",
      "saving 271 rows to TSDAVO Opus 5-5.xlsx\n"
     ]
    }
   ],
   "source": [
    "do_opi([('5', i) for i in range(1, 6)])"
   ]
  },
  {
   "cell_type": "code",
   "execution_count": 5,
   "metadata": {
    "scrolled": true
   },
   "outputs": [
    {
     "name": "stdout",
     "output_type": "stream",
     "text": [
      "saving 43 rows to TSDAVO Opus 799-1.xlsx\n",
      "saving 131 rows to TSDAVO Opus 1065-4.xlsx\n",
      "saving 31 rows to TSDAVO Opus 1065-5.xlsx\n",
      "saving 337 rows to TSDAVO Opus 1078-2.xlsx\n",
      "saving 39 rows to TSDAVO Opus 1076-3.xlsx\n"
     ]
    }
   ],
   "source": [
    "do_opi([('799', 1), ('1065', 4), ('1065', 5), ('1078', 2), ('1076', 3)])"
   ]
  },
  {
   "cell_type": "code",
   "execution_count": 6,
   "metadata": {},
   "outputs": [
    {
     "name": "stdout",
     "output_type": "stream",
     "text": [
      "saving 95 rows to TSDAVO Opus 1115-1.xlsx\n",
      "saving 42 rows to TSDAVO Opus 1429-5.xlsx\n",
      "saving 335 rows to TSDAVO Opus 1509-1.xlsx\n",
      "saving 72 rows to TSDAVO Opus 2201-3.xlsx\n",
      "saving 248 rows to TSDAVO Opus 2537-2.xlsx\n",
      "saving 51 rows to TSDAVO Opus 3158-1.xlsx\n",
      "saving 26 rows to TSDAVO Opus 3158-2.xlsx\n",
      "saving 160 rows to TSDAVO Opus 3205-1.xlsx\n"
     ]
    }
   ],
   "source": [
    "do_opi([('1115', 1), \n",
    "        ('1429', 5), \n",
    "        ('1509', 1), \n",
    "        ('2201', 3), \n",
    "        ('2537', 2), \n",
    "        ('3158', 1),\n",
    "        ('3158', 2), \n",
    "        ('3205', 1)])"
   ]
  },
  {
   "cell_type": "code",
   "execution_count": null,
   "metadata": {},
   "outputs": [],
   "source": []
  },
  {
   "cell_type": "code",
   "execution_count": null,
   "metadata": {},
   "outputs": [],
   "source": []
  },
  {
   "cell_type": "code",
   "execution_count": null,
   "metadata": {},
   "outputs": [],
   "source": []
  },
  {
   "cell_type": "code",
   "execution_count": null,
   "metadata": {},
   "outputs": [],
   "source": []
  }
 ],
 "metadata": {
  "kernelspec": {
   "display_name": "Python 3",
   "language": "python",
   "name": "python3"
  },
  "language_info": {
   "codemirror_mode": {
    "name": "ipython",
    "version": 3
   },
   "file_extension": ".py",
   "mimetype": "text/x-python",
   "name": "python",
   "nbconvert_exporter": "python",
   "pygments_lexer": "ipython3",
   "version": "3.8.5"
  }
 },
 "nbformat": 4,
 "nbformat_minor": 4
}
