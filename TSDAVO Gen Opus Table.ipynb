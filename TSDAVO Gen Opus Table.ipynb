{
 "cells": [
  {
   "cell_type": "code",
   "execution_count": 1,
   "metadata": {},
   "outputs": [],
   "source": [
    "import requests\n",
    "import json\n",
    "from bs4 import BeautifulSoup\n",
    "from openpyxl import Workbook, load_workbook\n",
    "import re"
   ]
  },
  {
   "cell_type": "code",
   "execution_count": 2,
   "metadata": {},
   "outputs": [],
   "source": [
    "from tsdavo import FondCollection, base, load_fond, index_fonds, OpusTable, translation"
   ]
  },
  {
   "cell_type": "code",
   "execution_count": 4,
   "metadata": {},
   "outputs": [],
   "source": [
    "def do_opi(opi):\n",
    "    for o in opi:\n",
    "        t = OpusTable(o[0], o[1])\n",
    "        t.load()\n",
    "        t.export()"
   ]
  },
  {
   "cell_type": "code",
   "execution_count": null,
   "metadata": {},
   "outputs": [],
   "source": [
    "do_opi([('1115', 1), \n",
    "        ('1429', 5), \n",
    "        ('1509', 1), \n",
    "        ('2201', 3), \n",
    "        ('2537', 2), \n",
    "        ('3158', 1),\n",
    "        ('3158', 2), \n",
    "        ('3205', 1)])"
   ]
  },
  {
   "cell_type": "code",
   "execution_count": 6,
   "metadata": {},
   "outputs": [
    {
     "name": "stdout",
     "output_type": "stream",
     "text": [
      "checking 0 cases on the archive...\n",
      "saving 11 rows to TSDAVO Opus 1-3.xlsx\n"
     ]
    }
   ],
   "source": [
    "do_opi([('1', 3)])"
   ]
  },
  {
   "cell_type": "code",
   "execution_count": 7,
   "metadata": {},
   "outputs": [
    {
     "name": "stdout",
     "output_type": "stream",
     "text": [
      "checking 85 cases on the archive...\n",
      "saving 95 rows to TSDAVO Opus 1115-1.xlsx\n",
      "checking 32 cases on the archive...\n",
      "saving 42 rows to TSDAVO Opus 1429-5.xlsx\n",
      "checking 150 cases on the archive...\n",
      "saving 160 rows to TSDAVO Opus 3205-1.xlsx\n",
      "checking 41 cases on the archive...\n",
      "saving 51 rows to TSDAVO Opus 3158-1.xlsx\n",
      "checking 238 cases on the archive...\n",
      "saving 248 rows to TSDAVO Opus 2537-2.xlsx\n",
      "checking 62 cases on the archive...\n",
      "saving 72 rows to TSDAVO Opus 2201-3.xlsx\n",
      "checking 325 cases on the archive...\n",
      "saving 335 rows to TSDAVO Opus 1509-1.xlsx\n"
     ]
    }
   ],
   "source": [
    "do_opi([('1115', 1), \n",
    "        ('1429', 5), \n",
    "        ('3205', 1), \n",
    "        ('3158', 1), \n",
    "        ('2537', 2), \n",
    "        ('2201', 3),\n",
    "        ('1509', 1)])"
   ]
  },
  {
   "cell_type": "code",
   "execution_count": null,
   "metadata": {},
   "outputs": [],
   "source": []
  },
  {
   "cell_type": "code",
   "execution_count": null,
   "metadata": {},
   "outputs": [],
   "source": []
  }
 ],
 "metadata": {
  "kernelspec": {
   "display_name": "Python 3 (ipykernel)",
   "language": "python",
   "name": "python3"
  },
  "language_info": {
   "codemirror_mode": {
    "name": "ipython",
    "version": 3
   },
   "file_extension": ".py",
   "mimetype": "text/x-python",
   "name": "python",
   "nbconvert_exporter": "python",
   "pygments_lexer": "ipython3",
   "version": "3.11.5"
  }
 },
 "nbformat": 4,
 "nbformat_minor": 4
}
