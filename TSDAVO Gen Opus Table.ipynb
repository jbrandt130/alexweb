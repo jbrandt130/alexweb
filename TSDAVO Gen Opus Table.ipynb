{
 "cells": [
  {
   "cell_type": "code",
   "execution_count": 1,
   "metadata": {},
   "outputs": [
    {
     "name": "stderr",
     "output_type": "stream",
     "text": [
      "/usr/local/anaconda3/lib/python3.8/site-packages/pandas/core/computation/expressions.py:20: UserWarning: Pandas requires version '2.7.3' or newer of 'numexpr' (version '2.7.1' currently installed).\n",
      "  from pandas.core.computation.check import NUMEXPR_INSTALLED\n"
     ]
    }
   ],
   "source": [
    "import requests\n",
    "import json\n",
    "from bs4 import BeautifulSoup\n",
    "from openpyxl import Workbook, load_workbook\n",
    "import re"
   ]
  },
  {
   "cell_type": "code",
   "execution_count": 2,
   "metadata": {},
   "outputs": [],
   "source": [
    "from tsdavo import FondCollection, Inventory, base, load_fond, save_object, load_object, index_fonds"
   ]
  },
  {
   "cell_type": "code",
   "execution_count": 50,
   "metadata": {},
   "outputs": [],
   "source": [
    "def format_case(case, base=base):\n",
    "    link = case['link']\n",
    "    num = re.sub('Case ', '', case['title'])\n",
    "    link = base + link\n",
    "    desc = case['description']\n",
    "    return (num, desc, link, case['date'])"
   ]
  },
  {
   "cell_type": "code",
   "execution_count": null,
   "metadata": {},
   "outputs": [],
   "source": [
    "def add_row(row, case, base=base):\n",
    "    num, desc, link, date = format_case(case, base)\n",
    "    #print(num, title, link)\n",
    "    row[0].value = num\n",
    "    row[0].hyperlink = link\n",
    "    row[1].value = desc\n",
    "    row[1].hyperlink = link\n",
    "    row[2].value = date"
   ]
  },
  {
   "cell_type": "code",
   "execution_count": 3,
   "metadata": {},
   "outputs": [
    {
     "data": {
      "text/plain": [
       "3429"
      ]
     },
     "execution_count": 3,
     "metadata": {},
     "output_type": "execute_result"
    }
   ],
   "source": [
    "fonds = load_object('fonds.json')\n",
    "fond_index = index_fonds(fonds)\n",
    "len(fonds)"
   ]
  },
  {
   "cell_type": "code",
   "execution_count": 115,
   "metadata": {},
   "outputs": [
    {
     "data": {
      "text/plain": [
       "'3787-1'"
      ]
     },
     "execution_count": 115,
     "metadata": {},
     "output_type": "execute_result"
    }
   ],
   "source": [
    "opus_index = 1\n",
    "fond_id = '3787'\n",
    "opus_id = f'{fond_id}-{opus_index}'\n",
    "opus_id"
   ]
  },
  {
   "cell_type": "code",
   "execution_count": 116,
   "metadata": {},
   "outputs": [
    {
     "data": {
      "text/plain": [
       "[{'link': '/inventories/3410/', 'title': 'Опис 1'}]"
      ]
     },
     "execution_count": 116,
     "metadata": {},
     "output_type": "execute_result"
    }
   ],
   "source": [
    "opi = load_fond(base + fond_index[fond_id]['link'])\n",
    "opi"
   ]
  },
  {
   "cell_type": "code",
   "execution_count": 117,
   "metadata": {},
   "outputs": [
    {
     "name": "stdout",
     "output_type": "stream",
     "text": [
      "loading page 1\n",
      "  got 49 items\n",
      "loading page 2\n"
     ]
    },
    {
     "data": {
      "text/plain": [
       "49"
      ]
     },
     "execution_count": 117,
     "metadata": {},
     "output_type": "execute_result"
    }
   ],
   "source": [
    "inv = Inventory(opi[opus_index-1]['link'])\n",
    "cases = inv.load_all()\n",
    "save_object(cases, f'opus{opus_id}.json')\n",
    "len(cases)"
   ]
  },
  {
   "cell_type": "code",
   "execution_count": 118,
   "metadata": {},
   "outputs": [],
   "source": [
    "#cases = load_object(f'opus{opus_id}.json')\n",
    "#len(cases)"
   ]
  },
  {
   "cell_type": "code",
   "execution_count": 119,
   "metadata": {},
   "outputs": [
    {
     "data": {
      "text/plain": [
       "{'link': '/files/21886/',\n",
       " 'title': 'Case 1',\n",
       " 'date': '1920',\n",
       " 'description': 'Circulars of the Ukrainian Main Committee of the Jewish Communist Youth Union (EUJCM) for 1920, 1920, 21 sheets.'}"
      ]
     },
     "execution_count": 119,
     "metadata": {},
     "output_type": "execute_result"
    }
   ],
   "source": [
    "cases[0]"
   ]
  },
  {
   "cell_type": "code",
   "execution_count": 120,
   "metadata": {},
   "outputs": [
    {
     "data": {
      "text/plain": [
       "('1',\n",
       " 'Circulars of the Ukrainian Main Committee of the Jewish Communist Youth Union (EUJCM) for 1920, 1920, 21 sheets.',\n",
       " 'https://e-resource.tsdavo.gov.ua/files/21886/',\n",
       " '1920')"
      ]
     },
     "execution_count": 120,
     "metadata": {},
     "output_type": "execute_result"
    }
   ],
   "source": [
    "format_case(cases[0])"
   ]
  },
  {
   "cell_type": "code",
   "execution_count": 121,
   "metadata": {},
   "outputs": [],
   "source": [
    "wb = Workbook()\n",
    "sheet = wb.active\n",
    "sheet.append(['Number', 'Description', 'Date'])"
   ]
  },
  {
   "cell_type": "code",
   "execution_count": 122,
   "metadata": {},
   "outputs": [
    {
     "data": {
      "text/plain": [
       "50"
      ]
     },
     "execution_count": 122,
     "metadata": {},
     "output_type": "execute_result"
    }
   ],
   "source": [
    "for i, item in enumerate(cases):\n",
    "    add_row(sheet[i+2], item)\n",
    "sheet.max_row"
   ]
  },
  {
   "cell_type": "code",
   "execution_count": 123,
   "metadata": {},
   "outputs": [],
   "source": [
    "wb.save(f'TSDAVO Opus {opus_id}.xlsx')"
   ]
  },
  {
   "cell_type": "code",
   "execution_count": null,
   "metadata": {},
   "outputs": [],
   "source": [
    "#wb = load_workbook('TSDAVO Fonds.xlsx')\n",
    "#sheet = wb.active"
   ]
  },
  {
   "cell_type": "code",
   "execution_count": null,
   "metadata": {},
   "outputs": [],
   "source": [
    "#for row in sheet.iter_rows(min_row=2, max_col=3, max_row=sheet.max_row):\n",
    "#    row[2].hyperlink = row[1].hyperlink\n",
    "    "
   ]
  },
  {
   "cell_type": "code",
   "execution_count": null,
   "metadata": {},
   "outputs": [],
   "source": [
    "#wb.save('TSDAVO Fonds.xlsx')"
   ]
  }
 ],
 "metadata": {
  "kernelspec": {
   "display_name": "Python 3",
   "language": "python",
   "name": "python3"
  },
  "language_info": {
   "codemirror_mode": {
    "name": "ipython",
    "version": 3
   },
   "file_extension": ".py",
   "mimetype": "text/x-python",
   "name": "python",
   "nbconvert_exporter": "python",
   "pygments_lexer": "ipython3",
   "version": "3.8.5"
  }
 },
 "nbformat": 4,
 "nbformat_minor": 4
}
