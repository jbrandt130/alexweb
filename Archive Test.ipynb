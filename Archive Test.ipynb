{
 "cells": [
  {
   "cell_type": "code",
   "execution_count": 1,
   "metadata": {},
   "outputs": [
    {
     "name": "stderr",
     "output_type": "stream",
     "text": [
      "/usr/local/anaconda3/lib/python3.8/site-packages/pandas/core/computation/expressions.py:20: UserWarning: Pandas requires version '2.7.3' or newer of 'numexpr' (version '2.7.1' currently installed).\n",
      "  from pandas.core.computation.check import NUMEXPR_INSTALLED\n"
     ]
    }
   ],
   "source": [
    "from archivescraper import *\n",
    "import pandas as pd"
   ]
  },
  {
   "cell_type": "code",
   "execution_count": null,
   "metadata": {},
   "outputs": [],
   "source": []
  },
  {
   "cell_type": "code",
   "execution_count": 2,
   "metadata": {},
   "outputs": [
    {
     "name": "stdout",
     "output_type": "stream",
     "text": [
      "open_url: https://uk.wikisource.org/wiki/%D0%90%D1%80%D1%85%D1%96%D0%B2%3A%D0%94%D0%90%D0%9C%D0%9E/%D0%94\n",
      "archive,DAMO/Д,2021,11,28,21:55\n"
     ]
    }
   ],
   "source": [
    "a=Archive('DAMO')\n",
    "print(a.report)"
   ]
  },
  {
   "cell_type": "code",
   "execution_count": null,
   "metadata": {},
   "outputs": [],
   "source": [
    "f = a.lookup('80')\n",
    "print(f.report)"
   ]
  },
  {
   "cell_type": "code",
   "execution_count": null,
   "metadata": {},
   "outputs": [],
   "source": [
    "o = f.lookup('1')\n",
    "print(o.report)"
   ]
  },
  {
   "cell_type": "code",
   "execution_count": null,
   "metadata": {},
   "outputs": [],
   "source": [
    "def scan_fond(fond):\n",
    "    for o in range(len(fond.children)):\n",
    "        opus = Opus(f.children[o], fond)\n",
    "        print(opus.report)\n",
    "        for c in range(len(opus.children)):\n",
    "            case = Case(opus.children[c], opus)\n",
    "            print(case.report)    "
   ]
  },
  {
   "cell_type": "code",
   "execution_count": null,
   "metadata": {},
   "outputs": [],
   "source": [
    "scan_fond(a.lookup('84'))"
   ]
  },
  {
   "cell_type": "code",
   "execution_count": null,
   "metadata": {},
   "outputs": [],
   "source": [
    "archive = Archive('DAKO', subarchive=subarchives[1])\n",
    "print(archive.report)"
   ]
  },
  {
   "cell_type": "code",
   "execution_count": 3,
   "metadata": {},
   "outputs": [
    {
     "name": "stdout",
     "output_type": "stream",
     "text": [
      "open_url: https://uk.wikisource.org/wiki/%D0%90%D1%80%D1%85%D1%96%D0%B2%3A%D0%94%D0%90%D0%9C%D0%9E/%D0%94\n",
      "archive,DAMO/Д,2021,11,28,21:55\n",
      "open_url: https://uk.wikisource.org/wiki/%D0%90%D1%80%D1%85%D1%96%D0%B2:%D0%94%D0%90%D0%9C%D0%9E/14\n",
      "fond,DAMO/14,2021,06,18,18:33\n",
      "open_url: https://uk.wikisource.org/wiki/%D0%90%D1%80%D1%85%D1%96%D0%B2:%D0%94%D0%90%D0%9C%D0%9E/14/1\n",
      "opus,DAMO/14/1,2021,06,18,22:03\n",
      "open_url: https://uk.wikisource.org/wiki/%D0%90%D1%80%D1%85%D1%96%D0%B2:%D0%94%D0%90%D0%9C%D0%9E/14/1/1\n",
      "case,DAMO/14/1/1,2021,06,18,18:44\n",
      "open_url: https://uk.wikisource.org/wiki/%D0%90%D1%80%D1%85%D1%96%D0%B2:%D0%94%D0%90%D0%9C%D0%9E/218\n",
      "fond,DAMO/218,2021,06,18,18:48\n",
      "open_url: https://uk.wikisource.org/wiki/%D0%90%D1%80%D1%85%D1%96%D0%B2:%D0%94%D0%90%D0%9C%D0%9E/218/1\n",
      "opus,DAMO/218/1,2021,06,18,22:03\n",
      "open_url: https://uk.wikisource.org/wiki/%D0%90%D1%80%D1%85%D1%96%D0%B2:%D0%94%D0%90%D0%9C%D0%9E/218/1/1\n",
      "case,DAMO/218/1/1,2021,06,18,18:51\n",
      "open_url: https://uk.wikisource.org/wiki/%D0%90%D1%80%D1%85%D1%96%D0%B2:%D0%94%D0%90%D0%9C%D0%9E/231\n",
      "fond,DAMO/231,2021,11,28,21:55\n",
      "open_url: https://uk.wikisource.org/wiki/%D0%90%D1%80%D1%85%D1%96%D0%B2:%D0%94%D0%90%D0%9C%D0%9E/231/1\n",
      "opus,DAMO/231/1,2021,11,28,21:55\n",
      "open_url: https://uk.wikisource.org/wiki/%D0%90%D1%80%D1%85%D1%96%D0%B2:%D0%94%D0%90%D0%9C%D0%9E/231/1/1394\n",
      "case,DAMO/231/1/1394,2021,11,28,21:29\n",
      "open_url: https://uk.wikisource.org/wiki/%D0%90%D1%80%D1%85%D1%96%D0%B2:%D0%94%D0%90%D0%9C%D0%9E/280\n",
      "fond,DAMO/280,2021,06,18,19:23\n",
      "open_url: https://uk.wikisource.org/wiki/%D0%90%D1%80%D1%85%D1%96%D0%B2:%D0%94%D0%90%D0%9C%D0%9E/280/1\n",
      "opus,DAMO/280/1,2021,06,18,22:04\n",
      "open_url: https://uk.wikisource.org/wiki/%D0%90%D1%80%D1%85%D1%96%D0%B2:%D0%94%D0%90%D0%9C%D0%9E/280/1/7\n",
      "case,DAMO/280/1/7,2021,06,18,19:26\n",
      "open_url: https://uk.wikisource.org/wiki/%D0%90%D1%80%D1%85%D1%96%D0%B2:%D0%94%D0%90%D0%9C%D0%9E/280/1/9\n",
      "case,DAMO/280/1/9,2021,06,18,19:26\n",
      "open_url: https://uk.wikisource.org/wiki/%D0%90%D1%80%D1%85%D1%96%D0%B2:%D0%94%D0%90%D0%9C%D0%9E/280/1/10\n",
      "case,DAMO/280/1/10,2021,06,18,19:58\n",
      "open_url: https://uk.wikisource.org/wiki/%D0%90%D1%80%D1%85%D1%96%D0%B2:%D0%94%D0%90%D0%9C%D0%9E/280/1/11\n",
      "case,DAMO/280/1/11,2021,06,18,20:21\n",
      "open_url: https://uk.wikisource.org/wiki/%D0%90%D1%80%D1%85%D1%96%D0%B2:%D0%94%D0%90%D0%9C%D0%9E/280/1/13\n",
      "case,DAMO/280/1/13,2021,06,18,20:21\n",
      "open_url: https://uk.wikisource.org/wiki/%D0%90%D1%80%D1%85%D1%96%D0%B2:%D0%94%D0%90%D0%9C%D0%9E/280/1/14\n",
      "case,DAMO/280/1/14,2021,06,18,20:26\n",
      "open_url: https://uk.wikisource.org/wiki/%D0%90%D1%80%D1%85%D1%96%D0%B2:%D0%94%D0%90%D0%9C%D0%9E/280/1/15\n",
      "case,DAMO/280/1/15,2021,06,18,20:26\n",
      "open_url: https://uk.wikisource.org/wiki/%D0%90%D1%80%D1%85%D1%96%D0%B2:%D0%94%D0%90%D0%9C%D0%9E/280/1/21\n",
      "case,DAMO/280/1/21,2021,06,18,20:09\n",
      "open_url: https://uk.wikisource.org/wiki/%D0%90%D1%80%D1%85%D1%96%D0%B2:%D0%94%D0%90%D0%9C%D0%9E/280/1/48\n",
      "case,DAMO/280/1/48,2021,06,18,20:26\n",
      "open_url: https://uk.wikisource.org/wiki/%D0%90%D1%80%D1%85%D1%96%D0%B2:%D0%94%D0%90%D0%9C%D0%9E/280/1/50\n",
      "case,DAMO/280/1/50,2021,06,18,20:27\n",
      "open_url: https://uk.wikisource.org/wiki/%D0%90%D1%80%D1%85%D1%96%D0%B2:%D0%94%D0%90%D0%9C%D0%9E/280/1/67\n",
      "case,DAMO/280/1/67,2021,06,18,20:27\n",
      "open_url: https://uk.wikisource.org/wiki/%D0%90%D1%80%D1%85%D1%96%D0%B2:%D0%94%D0%90%D0%9C%D0%9E/280/1/91\n",
      "case,DAMO/280/1/91,2021,06,18,20:28\n",
      "open_url: https://uk.wikisource.org/wiki/%D0%90%D1%80%D1%85%D1%96%D0%B2:%D0%94%D0%90%D0%9C%D0%9E/324\n",
      "fond,DAMO/324,2021,06,18,20:36\n",
      "open_url: https://uk.wikisource.org/wiki/%D0%90%D1%80%D1%85%D1%96%D0%B2:%D0%94%D0%90%D0%9C%D0%9E/324/1\n",
      "opus,DAMO/324/1,2021,06,18,22:07\n",
      "open_url: https://uk.wikisource.org/wiki/%D0%90%D1%80%D1%85%D1%96%D0%B2:%D0%94%D0%90%D0%9C%D0%9E/324/1/3\n",
      "case,DAMO/324/1/3,2021,06,18,20:57\n",
      "open_url: https://uk.wikisource.org/wiki/%D0%90%D1%80%D1%85%D1%96%D0%B2:%D0%94%D0%90%D0%9C%D0%9E/484\n",
      "fond,DAMO/484,2021,02,12,22:37\n",
      "open_url: https://uk.wikisource.org/wiki/%D0%90%D1%80%D1%85%D1%96%D0%B2:%D0%94%D0%90%D0%9C%D0%9E/484/1\n",
      "opus,DAMO/484/1,2021,02,12,22:37\n",
      "open_url: https://uk.wikisource.org/wiki/%D0%90%D1%80%D1%85%D1%96%D0%B2:%D0%94%D0%90%D0%9C%D0%9E/484/1/2384\n",
      "case,DAMO/484/1/2384,2021,02,12,22:37\n",
      "open_url: https://uk.wikisource.org/wiki/%D0%90%D1%80%D1%85%D1%96%D0%B2:%D0%94%D0%90%D0%9C%D0%9E/484/1/2385\n",
      "case,DAMO/484/1/2385,2021,02,12,22:37\n",
      "open_url: https://uk.wikisource.org/wiki/%D0%90%D1%80%D1%85%D1%96%D0%B2:%D0%94%D0%90%D0%9C%D0%9E/484/1/2386\n",
      "case,DAMO/484/1/2386,2021,02,12,22:37\n",
      "open_url: https://uk.wikisource.org/wiki/%D0%90%D1%80%D1%85%D1%96%D0%B2:%D0%94%D0%90%D0%9C%D0%9E/484/1/2387\n",
      "case,DAMO/484/1/2387,2021,02,12,22:37\n",
      "open_url: https://uk.wikisource.org/wiki/%D0%90%D1%80%D1%85%D1%96%D0%B2:%D0%94%D0%90%D0%9C%D0%9E/484/1/2388\n",
      "case,DAMO/484/1/2388,2021,02,12,22:37\n",
      "open_url: https://uk.wikisource.org/wiki/%D0%90%D1%80%D1%85%D1%96%D0%B2:%D0%94%D0%90%D0%9C%D0%9E/484/1/2389\n",
      "case,DAMO/484/1/2389,2021,02,12,22:37\n",
      "open_url: https://uk.wikisource.org/wiki/%D0%90%D1%80%D1%85%D1%96%D0%B2:%D0%94%D0%90%D0%9C%D0%9E/484/1/2390\n",
      "case,DAMO/484/1/2390,2021,02,12,22:37\n",
      "open_url: https://uk.wikisource.org/wiki/%D0%90%D1%80%D1%85%D1%96%D0%B2:%D0%94%D0%90%D0%9C%D0%9E/484/1/2391\n",
      "case,DAMO/484/1/2391,2021,02,12,22:37\n",
      "open_url: https://uk.wikisource.org/wiki/%D0%90%D1%80%D1%85%D1%96%D0%B2:%D0%94%D0%90%D0%9C%D0%9E/484/1/2392\n",
      "case,DAMO/484/1/2392,2021,02,12,22:37\n",
      "open_url: https://uk.wikisource.org/wiki/%D0%90%D1%80%D1%85%D1%96%D0%B2:%D0%94%D0%90%D0%9C%D0%9E/484/1/2393\n",
      "case,DAMO/484/1/2393,2021,02,12,22:37\n",
      "open_url: https://uk.wikisource.org/wiki/%D0%90%D1%80%D1%85%D1%96%D0%B2:%D0%94%D0%90%D0%9C%D0%9E/484/1/2394\n",
      "case,DAMO/484/1/2394,2021,02,12,22:37\n",
      "open_url: https://uk.wikisource.org/wiki/%D0%90%D1%80%D1%85%D1%96%D0%B2:%D0%94%D0%90%D0%9C%D0%9E/484/1/2395\n",
      "case,DAMO/484/1/2395,2021,02,12,22:37\n",
      "open_url: https://uk.wikisource.org/wiki/%D0%90%D1%80%D1%85%D1%96%D0%B2:%D0%94%D0%90%D0%9C%D0%9E/484/1/2396\n",
      "case,DAMO/484/1/2396,2021,02,12,22:37\n",
      "open_url: https://uk.wikisource.org/wiki/%D0%90%D1%80%D1%85%D1%96%D0%B2:%D0%94%D0%90%D0%9C%D0%9E/484/1/2397\n",
      "case,DAMO/484/1/2397,2021,02,12,22:37\n",
      "open_url: https://uk.wikisource.org/wiki/%D0%90%D1%80%D1%85%D1%96%D0%B2:%D0%94%D0%90%D0%9C%D0%9E/484/1/2398\n",
      "case,DAMO/484/1/2398,2021,02,12,22:37\n",
      "open_url: https://uk.wikisource.org/wiki/%D0%90%D1%80%D1%85%D1%96%D0%B2:%D0%94%D0%90%D0%9C%D0%9E/484/1/2399\n",
      "case,DAMO/484/1/2399,2021,02,12,22:37\n",
      "open_url: https://uk.wikisource.org/wiki/%D0%90%D1%80%D1%85%D1%96%D0%B2%3A%D0%94%D0%90%D0%9C%D0%9E/%D0%A0\n",
      "archive,DAMO/Р,2021,12,20,14:27\n",
      "open_url: https://uk.wikisource.org/wiki/%D0%90%D1%80%D1%85%D1%96%D0%B2:%D0%94%D0%90%D0%9C%D0%9E/%D0%A0-184\n",
      "fond,DAMO/Р-184,2021,11,28,22:43\n",
      "open_url: https://uk.wikisource.org/wiki/%D0%90%D1%80%D1%85%D1%96%D0%B2:%D0%94%D0%90%D0%9C%D0%9E/%D0%A0-184/1\n",
      "opus,DAMO/Р-184/1,2022,02,13,23:51\n",
      "open_url: https://uk.wikisource.org/wiki/%D0%90%D1%80%D1%85%D1%96%D0%B2:%D0%94%D0%90%D0%9C%D0%9E/%D0%A0-184/1/9\n",
      "case,DAMO/Р-184/1/9,2021,11,28,22:57\n",
      "open_url: https://uk.wikisource.org/wiki/%D0%90%D1%80%D1%85%D1%96%D0%B2:%D0%94%D0%90%D0%9C%D0%9E/%D0%A0-184/1/16\n",
      "case,DAMO/Р-184/1/16,2022,09,21,23:01\n",
      "open_url: https://uk.wikisource.org/wiki/%D0%90%D1%80%D1%85%D1%96%D0%B2:%D0%94%D0%90%D0%9C%D0%9E/%D0%A0-184/1/45\n",
      "case,DAMO/Р-184/1/45,2022,02,14,08:34\n",
      "open_url: https://uk.wikisource.org/wiki/%D0%90%D1%80%D1%85%D1%96%D0%B2:%D0%94%D0%90%D0%9C%D0%9E/%D0%A0-184/1/55\n",
      "case,DAMO/Р-184/1/55,2021,11,28,23:47\n",
      "open_url: https://uk.wikisource.org/wiki/%D0%90%D1%80%D1%85%D1%96%D0%B2:%D0%94%D0%90%D0%9C%D0%9E/%D0%A0-184/1/56\n",
      "case,DAMO/Р-184/1/56,2022,02,14,08:34\n",
      "open_url: https://uk.wikisource.org/wiki/%D0%90%D1%80%D1%85%D1%96%D0%B2:%D0%94%D0%90%D0%9C%D0%9E/%D0%A0-184/1/57\n",
      "case,DAMO/Р-184/1/57,2021,11,28,23:47\n",
      "open_url: https://uk.wikisource.org/wiki/%D0%90%D1%80%D1%85%D1%96%D0%B2:%D0%94%D0%90%D0%9C%D0%9E/%D0%A0-184/1/60\n",
      "case,DAMO/Р-184/1/60,2022,02,14,08:35\n",
      "open_url: https://uk.wikisource.org/wiki/%D0%90%D1%80%D1%85%D1%96%D0%B2:%D0%94%D0%90%D0%9C%D0%9E/%D0%A0-184/1/63\n",
      "case,DAMO/Р-184/1/63,2022,02,14,08:35\n",
      "open_url: https://uk.wikisource.org/wiki/%D0%90%D1%80%D1%85%D1%96%D0%B2:%D0%94%D0%90%D0%9C%D0%9E/%D0%A0-184/1/64\n",
      "case,DAMO/Р-184/1/64,2021,11,28,23:48\n",
      "open_url: https://uk.wikisource.org/wiki/%D0%90%D1%80%D1%85%D1%96%D0%B2:%D0%94%D0%90%D0%9C%D0%9E/%D0%A0-184/1/66\n"
     ]
    },
    {
     "name": "stdout",
     "output_type": "stream",
     "text": [
      "case,DAMO/Р-184/1/66,2022,02,14,08:36\n",
      "open_url: https://uk.wikisource.org/wiki/%D0%90%D1%80%D1%85%D1%96%D0%B2:%D0%94%D0%90%D0%9C%D0%9E/%D0%A0-184/1/75\n",
      "case,DAMO/Р-184/1/75,2022,02,14,08:36\n",
      "open_url: https://uk.wikisource.org/wiki/%D0%90%D1%80%D1%85%D1%96%D0%B2:%D0%94%D0%90%D0%9C%D0%9E/%D0%A0-184/1/84\n",
      "case,DAMO/Р-184/1/84,2021,11,28,23:48\n",
      "open_url: https://uk.wikisource.org/wiki/%D0%90%D1%80%D1%85%D1%96%D0%B2:%D0%94%D0%90%D0%9C%D0%9E/%D0%A0-184/1/98\n",
      "case,DAMO/Р-184/1/98,2022,02,14,08:37\n",
      "open_url: https://uk.wikisource.org/wiki/%D0%90%D1%80%D1%85%D1%96%D0%B2:%D0%94%D0%90%D0%9C%D0%9E/%D0%A0-184/1/103\n",
      "case,DAMO/Р-184/1/103,2022,09,21,22:34\n",
      "open_url: https://uk.wikisource.org/wiki/%D0%90%D1%80%D1%85%D1%96%D0%B2:%D0%94%D0%90%D0%9C%D0%9E/%D0%A0-184/1/113\n",
      "case,DAMO/Р-184/1/113,2022,02,14,08:38\n",
      "open_url: https://uk.wikisource.org/wiki/%D0%90%D1%80%D1%85%D1%96%D0%B2:%D0%94%D0%90%D0%9C%D0%9E/%D0%A0-1237\n",
      "fond,DAMO/Р-1237,2021,12,20,14:27\n",
      "open_url: https://uk.wikisource.org/wiki/%D0%90%D1%80%D1%85%D1%96%D0%B2:%D0%94%D0%90%D0%9C%D0%9E/%D0%A0-1237/1\n",
      "opus,DAMO/Р-1237/1,2022,02,13,23:47\n",
      "open_url: https://uk.wikisource.org/wiki/%D0%90%D1%80%D1%85%D1%96%D0%B2:%D0%94%D0%90%D0%9C%D0%9E/%D0%A0-1237/1/4\n",
      "case,DAMO/Р-1237/1/4,2022,09,21,22:39\n",
      "open_url: https://uk.wikisource.org/wiki/%D0%90%D1%80%D1%85%D1%96%D0%B2:%D0%94%D0%90%D0%9C%D0%9E/%D0%A0-1237/1/5\n",
      "case,DAMO/Р-1237/1/5,2022,09,21,22:39\n",
      "open_url: https://uk.wikisource.org/wiki/%D0%90%D1%80%D1%85%D1%96%D0%B2:%D0%94%D0%90%D0%9C%D0%9E/%D0%A0-1237/1/16\n",
      "case,DAMO/Р-1237/1/16,2022,09,21,22:32\n",
      "open_url: https://uk.wikisource.org/wiki/%D0%90%D1%80%D1%85%D1%96%D0%B2:%D0%94%D0%90%D0%9C%D0%9E/%D0%A0-1237/1/17\n",
      "case,DAMO/Р-1237/1/17,2022,09,21,22:34\n",
      "open_url: https://uk.wikisource.org/wiki/%D0%90%D1%80%D1%85%D1%96%D0%B2:%D0%94%D0%90%D0%9C%D0%9E/%D0%A0-1237/1/20\n",
      "case,DAMO/Р-1237/1/20,2022,09,21,22:35\n",
      "open_url: https://uk.wikisource.org/wiki/%D0%90%D1%80%D1%85%D1%96%D0%B2:%D0%94%D0%90%D0%9C%D0%9E/%D0%A0-1237/1/23\n",
      "case,DAMO/Р-1237/1/23,2022,09,21,22:35\n",
      "open_url: https://uk.wikisource.org/wiki/%D0%90%D1%80%D1%85%D1%96%D0%B2:%D0%94%D0%90%D0%9C%D0%9E/%D0%A0-1237/1/35\n",
      "case,DAMO/Р-1237/1/35,2022,09,21,22:36\n",
      "open_url: https://uk.wikisource.org/wiki/%D0%90%D1%80%D1%85%D1%96%D0%B2:%D0%94%D0%90%D0%9C%D0%9E/%D0%A0-1237/1/36\n",
      "case,DAMO/Р-1237/1/36,2022,09,21,22:38\n",
      "open_url: https://uk.wikisource.org/wiki/%D0%90%D1%80%D1%85%D1%96%D0%B2:%D0%94%D0%90%D0%9C%D0%9E/%D0%A0-1237/1/37\n",
      "case,DAMO/Р-1237/1/37,2022,09,21,22:38\n",
      "open_url: https://uk.wikisource.org/wiki/%D0%90%D1%80%D1%85%D1%96%D0%B2%3A%D0%94%D0%90%D0%9C%D0%9E/%D0%9F\n",
      "404: Page not found\n",
      "Table not found: https://uk.wikisource.org/wiki/%D0%90%D1%80%D1%85%D1%96%D0%B2%3A%D0%94%D0%90%D0%9C%D0%9E/%D0%9F\n",
      "archive,DAMO/П,None\n"
     ]
    }
   ],
   "source": [
    "for sub in subarchives:\n",
    "    scan_archive(Archive('DAMO', subarchive=sub))"
   ]
  },
  {
   "cell_type": "code",
   "execution_count": 8,
   "metadata": {},
   "outputs": [
    {
     "ename": "TypeError",
     "evalue": "with_traceback() takes exactly one argument (0 given)",
     "output_type": "error",
     "traceback": [
      "\u001b[0;31m---------------------------------------------------------------------------\u001b[0m",
      "\u001b[0;31mAttributeError\u001b[0m                            Traceback (most recent call last)",
      "\u001b[0;32m<ipython-input-8-294bc7b3a56f>\u001b[0m in \u001b[0;36m<module>\u001b[0;34m\u001b[0m\n\u001b[1;32m      2\u001b[0m \u001b[0;32mtry\u001b[0m\u001b[0;34m:\u001b[0m\u001b[0;34m\u001b[0m\u001b[0;34m\u001b[0m\u001b[0m\n\u001b[0;32m----> 3\u001b[0;31m     \u001b[0mx\u001b[0m\u001b[0;34m.\u001b[0m\u001b[0mappend\u001b[0m\u001b[0;34m(\u001b[0m\u001b[0;36m5\u001b[0m\u001b[0;34m)\u001b[0m\u001b[0;34m\u001b[0m\u001b[0;34m\u001b[0m\u001b[0m\n\u001b[0m\u001b[1;32m      4\u001b[0m \u001b[0;32mexcept\u001b[0m \u001b[0mAttributeError\u001b[0m \u001b[0;32mas\u001b[0m \u001b[0me\u001b[0m\u001b[0;34m:\u001b[0m\u001b[0;34m\u001b[0m\u001b[0;34m\u001b[0m\u001b[0m\n",
      "\u001b[0;31mAttributeError\u001b[0m: 'int' object has no attribute 'append'",
      "\nDuring handling of the above exception, another exception occurred:\n",
      "\u001b[0;31mTypeError\u001b[0m                                 Traceback (most recent call last)",
      "\u001b[0;32m<ipython-input-8-294bc7b3a56f>\u001b[0m in \u001b[0;36m<module>\u001b[0;34m\u001b[0m\n\u001b[1;32m      3\u001b[0m     \u001b[0mx\u001b[0m\u001b[0;34m.\u001b[0m\u001b[0mappend\u001b[0m\u001b[0;34m(\u001b[0m\u001b[0;36m5\u001b[0m\u001b[0;34m)\u001b[0m\u001b[0;34m\u001b[0m\u001b[0;34m\u001b[0m\u001b[0m\n\u001b[1;32m      4\u001b[0m \u001b[0;32mexcept\u001b[0m \u001b[0mAttributeError\u001b[0m \u001b[0;32mas\u001b[0m \u001b[0me\u001b[0m\u001b[0;34m:\u001b[0m\u001b[0;34m\u001b[0m\u001b[0;34m\u001b[0m\u001b[0m\n\u001b[0;32m----> 5\u001b[0;31m     \u001b[0mprint\u001b[0m\u001b[0;34m(\u001b[0m\u001b[0;34mf'Error: {e.with_traceback()}'\u001b[0m\u001b[0;34m)\u001b[0m\u001b[0;34m\u001b[0m\u001b[0;34m\u001b[0m\u001b[0m\n\u001b[0m",
      "\u001b[0;31mTypeError\u001b[0m: with_traceback() takes exactly one argument (0 given)"
     ]
    }
   ],
   "source": [
    "x=10\n",
    "try:\n",
    "    x.append(5)\n",
    "except AttributeError as e:\n",
    "    print(f'Error: {e.with_traceback()}')"
   ]
  },
  {
   "cell_type": "code",
   "execution_count": 123,
   "metadata": {},
   "outputs": [],
   "source": [
    "file1 = '2023-05-25 19:19:10.375664/DAKO.csv'\n",
    "file2 = '2023-06-04 08:37:52.481815/DAKO.csv'\n",
    "data = './var'"
   ]
  },
  {
   "cell_type": "code",
   "execution_count": 124,
   "metadata": {},
   "outputs": [],
   "source": [
    "def form_date(df):\n",
    "    df['date'] = df['year'] + ':' + df['month'] + ':' + df['day'] + ':' + df['hour']\n",
    "    return df\n",
    "\n",
    "def load_report(fname, data_dir=data):\n",
    "    df = pd.read_csv(f'{data_dir}/{fname}', \n",
    "                     names=['type', 'id', 'year', 'month', 'day', 'hour'],\n",
    "                     dtype=str)\n",
    "    df = form_date(df)\n",
    "    df = df.drop(columns=['year', 'month', 'day', 'hour'])\n",
    "    df = df.replace({0: ''})\n",
    "    return df.set_index(['id'])\n",
    "\n",
    "def check_changes(df1, df2):\n",
    "    df = df1.join(df2, how='outer', lsuffix='1', rsuffix='2').fillna('')\n",
    "    return df[df['date1'] != df['date2']]"
   ]
  },
  {
   "cell_type": "code",
   "execution_count": 125,
   "metadata": {},
   "outputs": [],
   "source": [
    "df1 = load_report(file1)\n",
    "df2 = load_report(file2)"
   ]
  },
  {
   "cell_type": "code",
   "execution_count": 126,
   "metadata": {},
   "outputs": [],
   "source": [
    "changes = check_changes(df1, df2)"
   ]
  },
  {
   "cell_type": "code",
   "execution_count": 127,
   "metadata": {},
   "outputs": [
    {
     "data": {
      "text/plain": [
       "7"
      ]
     },
     "execution_count": 127,
     "metadata": {},
     "output_type": "execute_result"
    }
   ],
   "source": [
    "len(changes)"
   ]
  },
  {
   "cell_type": "code",
   "execution_count": 128,
   "metadata": {},
   "outputs": [
    {
     "data": {
      "text/html": [
       "<div>\n",
       "<style scoped>\n",
       "    .dataframe tbody tr th:only-of-type {\n",
       "        vertical-align: middle;\n",
       "    }\n",
       "\n",
       "    .dataframe tbody tr th {\n",
       "        vertical-align: top;\n",
       "    }\n",
       "\n",
       "    .dataframe thead th {\n",
       "        text-align: right;\n",
       "    }\n",
       "</style>\n",
       "<table border=\"1\" class=\"dataframe\">\n",
       "  <thead>\n",
       "    <tr style=\"text-align: right;\">\n",
       "      <th></th>\n",
       "      <th>type1</th>\n",
       "      <th>date1</th>\n",
       "      <th>type2</th>\n",
       "      <th>date2</th>\n",
       "    </tr>\n",
       "    <tr>\n",
       "      <th>id</th>\n",
       "      <th></th>\n",
       "      <th></th>\n",
       "      <th></th>\n",
       "      <th></th>\n",
       "    </tr>\n",
       "  </thead>\n",
       "  <tbody>\n",
       "    <tr>\n",
       "      <th>DAKO/1/295</th>\n",
       "      <td>opus</td>\n",
       "      <td>2023:05:4:20:20</td>\n",
       "      <td>opus</td>\n",
       "      <td>2023:06:4:11:34</td>\n",
       "    </tr>\n",
       "    <tr>\n",
       "      <th>DAKO/1/295/53160</th>\n",
       "      <td></td>\n",
       "      <td></td>\n",
       "      <td>case</td>\n",
       "      <td>2023:06:4:20:20</td>\n",
       "    </tr>\n",
       "    <tr>\n",
       "      <th>DAKO/1260/3/187</th>\n",
       "      <td>case</td>\n",
       "      <td>2023:05:26:10:30</td>\n",
       "      <td>case</td>\n",
       "      <td>2023:05:26:14:54</td>\n",
       "    </tr>\n",
       "    <tr>\n",
       "      <th>DAKO/280/147</th>\n",
       "      <td>opus</td>\n",
       "      <td>2023:05:16:11:05</td>\n",
       "      <td>opus</td>\n",
       "      <td>2023:06:3:13:06</td>\n",
       "    </tr>\n",
       "    <tr>\n",
       "      <th>DAKO/280/147/425</th>\n",
       "      <td></td>\n",
       "      <td></td>\n",
       "      <td>case</td>\n",
       "      <td>2023:06:3:13:06</td>\n",
       "    </tr>\n",
       "    <tr>\n",
       "      <th>DAKO/280/147/435</th>\n",
       "      <td>case</td>\n",
       "      <td>2023:05:16:12:38</td>\n",
       "      <td></td>\n",
       "      <td></td>\n",
       "    </tr>\n",
       "    <tr>\n",
       "      <th>DAKO/384/5/76</th>\n",
       "      <td>case</td>\n",
       "      <td>2021:09:15:19:52</td>\n",
       "      <td>case</td>\n",
       "      <td>2023:05:27:19:34</td>\n",
       "    </tr>\n",
       "  </tbody>\n",
       "</table>\n",
       "</div>"
      ],
      "text/plain": [
       "                 type1             date1 type2             date2\n",
       "id                                                              \n",
       "DAKO/1/295        opus   2023:05:4:20:20  opus   2023:06:4:11:34\n",
       "DAKO/1/295/53160                          case   2023:06:4:20:20\n",
       "DAKO/1260/3/187   case  2023:05:26:10:30  case  2023:05:26:14:54\n",
       "DAKO/280/147      opus  2023:05:16:11:05  opus   2023:06:3:13:06\n",
       "DAKO/280/147/425                          case   2023:06:3:13:06\n",
       "DAKO/280/147/435  case  2023:05:16:12:38                        \n",
       "DAKO/384/5/76     case  2021:09:15:19:52  case  2023:05:27:19:34"
      ]
     },
     "execution_count": 128,
     "metadata": {},
     "output_type": "execute_result"
    }
   ],
   "source": [
    "changes"
   ]
  },
  {
   "cell_type": "code",
   "execution_count": null,
   "metadata": {},
   "outputs": [],
   "source": []
  },
  {
   "cell_type": "code",
   "execution_count": null,
   "metadata": {},
   "outputs": [],
   "source": []
  }
 ],
 "metadata": {
  "kernelspec": {
   "display_name": "Python 3",
   "language": "python",
   "name": "python3"
  },
  "language_info": {
   "codemirror_mode": {
    "name": "ipython",
    "version": 3
   },
   "file_extension": ".py",
   "mimetype": "text/x-python",
   "name": "python",
   "nbconvert_exporter": "python",
   "pygments_lexer": "ipython3",
   "version": "3.8.5"
  }
 },
 "nbformat": 4,
 "nbformat_minor": 4
}
