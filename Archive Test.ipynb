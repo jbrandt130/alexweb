{
 "cells": [
  {
   "cell_type": "code",
   "execution_count": 1,
   "metadata": {},
   "outputs": [],
   "source": [
    "from archivescraper import *\n",
    "import pandas as pd\n",
    "import numpy as np\n",
    "import re\n",
    "from translate import translation, translate_field, is_english\n",
    "from cache import save_cached_object, load_cached_object"
   ]
  },
  {
   "cell_type": "code",
   "execution_count": 2,
   "metadata": {},
   "outputs": [
    {
     "data": {
      "text/plain": [
       "{'DAZHO': 'Архів:ДАЖО'}"
      ]
     },
     "execution_count": 2,
     "metadata": {},
     "output_type": "execute_result"
    }
   ],
   "source": [
    "archive_list"
   ]
  },
  {
   "cell_type": "code",
   "execution_count": 3,
   "metadata": {},
   "outputs": [
    {
     "name": "stdout",
     "output_type": "stream",
     "text": [
      "Retrieving from cache: Архів:ДАЖО/Д\n",
      "archive,DAZHO/Д,2025,01,19,12:47\n"
     ]
    }
   ],
   "source": [
    "a=Archive('DAZHO')\n",
    "print(a.report)"
   ]
  },
  {
   "cell_type": "code",
   "execution_count": 4,
   "metadata": {},
   "outputs": [
    {
     "data": {
      "text/plain": [
       "[None, 'Foundation name', 'Extreme dates', 'Affairs']"
      ]
     },
     "execution_count": 4,
     "metadata": {},
     "output_type": "execute_result"
    }
   ],
   "source": [
    "a._page['header']"
   ]
  },
  {
   "cell_type": "code",
   "execution_count": 5,
   "metadata": {},
   "outputs": [
    {
     "name": "stdout",
     "output_type": "stream",
     "text": [
      "[[{'text': '1', 'link': '/wiki/%D0%90%D1%80%D1%85%D1%96%D0%B2:%D0%94%D0%90%D0%96%D0%9E/1'}, {'text': 'Volyn Spiritual Consistory of Zhytomyr, Volyn Province', 'link': None}, {'text': '1741–1921', 'link': None}, {'text': '', 'link': None}]]\n",
      "Retrieving from cache: Архів:ДАЖО/Д/1\n",
      "fond,Архів:ДАЖО/Д/1,2024,09,12,08:41\n"
     ]
    }
   ],
   "source": [
    "f = a.lookup('1')\n",
    "print(f.report)"
   ]
  },
  {
   "cell_type": "code",
   "execution_count": 6,
   "metadata": {},
   "outputs": [
    {
     "name": "stdout",
     "output_type": "stream",
     "text": [
      "[[{'text': '74', 'link': '/wiki/%D0%90%D1%80%D1%85%D1%96%D0%B2:%D0%94%D0%90%D0%96%D0%9E/1/74'}, {'text': 'Metric books of Kovel, Zaslavsky, Dubensky, Rivne, Ovruch, Kremenetsky counties. Confessional information on Kovel, Zaslavsky, Dubensky, Rivne, Ovruch, Kremenetsky, Vladimir counties', 'link': None}, {'text': '1739–1913', 'link': None}, {'text': '382', 'link': None}]]\n",
      "Retrieving from cache: Архів:ДАЖО/Д/1/74\n",
      "opus,Архів:ДАЖО/Д/1/74,2025,02,22,17:32\n",
      "416\n",
      "Архів:ДАЖО/Д/1/74\n"
     ]
    }
   ],
   "source": [
    "o = f.lookup('74')\n",
    "print(o.report)\n",
    "print(len(o.children))\n",
    "print(o.name)"
   ]
  },
  {
   "cell_type": "code",
   "execution_count": 7,
   "metadata": {},
   "outputs": [
    {
     "name": "stdout",
     "output_type": "stream",
     "text": [
      "[[{'text': '1', 'link': '/wiki/%D0%90%D1%80%D1%85%D1%96%D0%B2:%D0%94%D0%90%D0%96%D0%9E/1/74/1'}, {'text': 'Metric books of the Kashogrod Uniate Deanery of Kovel and Lutsk counties', 'link': None}, {'text': 'Kovelsky, Lutsk', 'link': None}, {'text': '1798, 1802–1803, 1813', 'link': None}, {'text': '319', 'link': None}, {'text': '', 'link': None}]]\n",
      "Retrieving from cache: Архів:ДАЖО/Д/1/74/1\n",
      "case,Архів:ДАЖО/Д/1/74/1,2024,09,12,19:14\n"
     ]
    }
   ],
   "source": [
    "c = o.lookup('1')\n",
    "print(c.report)"
   ]
  },
  {
   "cell_type": "code",
   "execution_count": 8,
   "metadata": {},
   "outputs": [
    {
     "data": {
      "text/plain": [
       "'1'"
      ]
     },
     "execution_count": 8,
     "metadata": {},
     "output_type": "execute_result"
    }
   ],
   "source": [
    "c.id"
   ]
  },
  {
   "cell_type": "code",
   "execution_count": 9,
   "metadata": {},
   "outputs": [
    {
     "data": {
      "text/plain": [
       "'Архів:ДАЖО/Д/1/74/1'"
      ]
     },
     "execution_count": 9,
     "metadata": {},
     "output_type": "execute_result"
    }
   ],
   "source": [
    "c.name"
   ]
  },
  {
   "cell_type": "code",
   "execution_count": 10,
   "metadata": {},
   "outputs": [
    {
     "data": {
      "text/plain": [
       "'2024,09,12,19:14'"
      ]
     },
     "execution_count": 10,
     "metadata": {},
     "output_type": "execute_result"
    }
   ],
   "source": [
    "c.lastmod"
   ]
  },
  {
   "cell_type": "code",
   "execution_count": 11,
   "metadata": {},
   "outputs": [
    {
     "name": "stdout",
     "output_type": "stream",
     "text": [
      "[[{'text': '1', 'link': '/wiki/%D0%90%D1%80%D1%85%D1%96%D0%B2:%D0%94%D0%90%D0%96%D0%9E/1/74/1'}, {'text': 'Metric books of the Kashogrod Uniate Deanery of Kovel and Lutsk counties', 'link': None}, {'text': 'Kovelsky, Lutsk', 'link': None}, {'text': '1798, 1802–1803, 1813', 'link': None}, {'text': '319', 'link': None}, {'text': '', 'link': None}]]\n",
      "Loading page: Архів:ДАЖО/Д/1/74/1\n",
      "case,Архів:ДАЖО/Д/1/74/1,2024,09,12,19:14\n"
     ]
    }
   ],
   "source": [
    "c = o.lookup('1', use_cache=False)\n",
    "print(c.report)"
   ]
  },
  {
   "cell_type": "code",
   "execution_count": 12,
   "metadata": {},
   "outputs": [
    {
     "data": {
      "text/plain": [
       "'Архів:ДАЖО/Д/1/74/1'"
      ]
     },
     "execution_count": 12,
     "metadata": {},
     "output_type": "execute_result"
    }
   ],
   "source": [
    "c.name"
   ]
  },
  {
   "cell_type": "code",
   "execution_count": 13,
   "metadata": {},
   "outputs": [
    {
     "data": {
      "text/plain": [
       "'Архів:ДАЖО/Д'"
      ]
     },
     "execution_count": 13,
     "metadata": {},
     "output_type": "execute_result"
    }
   ],
   "source": [
    "a.name"
   ]
  },
  {
   "cell_type": "code",
   "execution_count": 14,
   "metadata": {},
   "outputs": [
    {
     "data": {
      "text/plain": [
       "[{'title': 'Архів:ДАЖО/1/75',\n",
       "  'link': '/wiki/%D0%90%D1%80%D1%85%D1%96%D0%B2:%D0%94%D0%90%D0%96%D0%9E/1/75',\n",
       "  'lastmod': '2025,02,28,10:14'},\n",
       " {'title': 'Архів:ДАЖО/3/1',\n",
       "  'link': '/wiki/%D0%90%D1%80%D1%85%D1%96%D0%B2:%D0%94%D0%90%D0%96%D0%9E/3/1',\n",
       "  'lastmod': '2025,02,23,14:43'},\n",
       " {'title': 'Архів:ДАЖО/3/1/78',\n",
       "  'link': '/wiki/%D0%90%D1%80%D1%85%D1%96%D0%B2:%D0%94%D0%90%D0%96%D0%9E/3/1/78',\n",
       "  'lastmod': '2025,02,23,14:43'},\n",
       " {'title': 'Архів:ДАЖО/3/1/76',\n",
       "  'link': '/wiki/%D0%90%D1%80%D1%85%D1%96%D0%B2:%D0%94%D0%90%D0%96%D0%9E/3/1/76',\n",
       "  'lastmod': '2025,02,23,14:43'},\n",
       " {'title': 'Архів:ДАЖО/3/1/48',\n",
       "  'link': '/wiki/%D0%90%D1%80%D1%85%D1%96%D0%B2:%D0%94%D0%90%D0%96%D0%9E/3/1/48',\n",
       "  'lastmod': '2025,02,23,14:43'},\n",
       " {'title': 'Архів:ДАЖО/2/1',\n",
       "  'link': '/wiki/%D0%90%D1%80%D1%85%D1%96%D0%B2:%D0%94%D0%90%D0%96%D0%9E/2/1',\n",
       "  'lastmod': '2025,02,23,14:29'},\n",
       " {'title': 'Архів:ДАЖО/2/1/593',\n",
       "  'link': '/wiki/%D0%90%D1%80%D1%85%D1%96%D0%B2:%D0%94%D0%90%D0%96%D0%9E/2/1/593',\n",
       "  'lastmod': '2025,02,23,14:26'},\n",
       " {'title': 'Архів:Єврейське містечко/Київська губернія',\n",
       "  'link': '/wiki/%D0%90%D1%80%D1%85%D1%96%D0%B2:%D0%84%D0%B2%D1%80%D0%B5%D0%B9%D1%81%D1%8C%D0%BA%D0%B5_%D0%BC%D1%96%D1%81%D1%82%D0%B5%D1%87%D0%BA%D0%BE/%D0%9A%D0%B8%D1%97%D0%B2%D1%81%D1%8C%D0%BA%D0%B0_%D0%B3%D1%83%D0%B1%D0%B5%D1%80%D0%BD%D1%96%D1%8F',\n",
       "  'lastmod': '2025,02,22,18:35'},\n",
       " {'title': 'Архів:ДАЖО/1/74',\n",
       "  'link': '/wiki/%D0%90%D1%80%D1%85%D1%96%D0%B2:%D0%94%D0%90%D0%96%D0%9E/1/74',\n",
       "  'lastmod': '2025,02,22,17:32'},\n",
       " {'title': 'Архів:ДАЖО/1/76',\n",
       "  'link': '/wiki/%D0%90%D1%80%D1%85%D1%96%D0%B2:%D0%94%D0%90%D0%96%D0%9E/1/76',\n",
       "  'lastmod': '2025,02,21,20:45'},\n",
       " {'title': 'Архів:ДАЖО/146/1',\n",
       "  'link': '/wiki/%D0%90%D1%80%D1%85%D1%96%D0%B2:%D0%94%D0%90%D0%96%D0%9E/146/1',\n",
       "  'lastmod': '2025,02,15,23:08'},\n",
       " {'title': 'Архів:ДАЖО/1/77',\n",
       "  'link': '/wiki/%D0%90%D1%80%D1%85%D1%96%D0%B2:%D0%94%D0%90%D0%96%D0%9E/1/77',\n",
       "  'lastmod': '2025,02,10,17:55'},\n",
       " {'title': 'Архів:ДАЖО/115',\n",
       "  'link': '/wiki/%D0%90%D1%80%D1%85%D1%96%D0%B2:%D0%94%D0%90%D0%96%D0%9E/115',\n",
       "  'lastmod': '2025,02,7,15:10'},\n",
       " {'title': 'Архів:ДАЖО/1/73',\n",
       "  'link': '/wiki/%D0%90%D1%80%D1%85%D1%96%D0%B2:%D0%94%D0%90%D0%96%D0%9E/1/73',\n",
       "  'lastmod': '2025,02,4,12:51'},\n",
       " {'title': 'Архів:ДАЖО/Р',\n",
       "  'link': '/wiki/%D0%90%D1%80%D1%85%D1%96%D0%B2:%D0%94%D0%90%D0%96%D0%9E/%D0%A0',\n",
       "  'lastmod': '2025,01,22,10:23'},\n",
       " {'title': 'Архів:ДАЖО/Д',\n",
       "  'link': '/wiki/%D0%90%D1%80%D1%85%D1%96%D0%B2:%D0%94%D0%90%D0%96%D0%9E/%D0%94',\n",
       "  'lastmod': '2025,01,19,12:47'},\n",
       " {'title': 'Архів:Ревізькі казки Волинської губернії/1795',\n",
       "  'link': '/wiki/%D0%90%D1%80%D1%85%D1%96%D0%B2:%D0%A0%D0%B5%D0%B2%D1%96%D0%B7%D1%8C%D0%BA%D1%96_%D0%BA%D0%B0%D0%B7%D0%BA%D0%B8_%D0%92%D0%BE%D0%BB%D0%B8%D0%BD%D1%81%D1%8C%D0%BA%D0%BE%D1%97_%D0%B3%D1%83%D0%B1%D0%B5%D1%80%D0%BD%D1%96%D1%97/1795',\n",
       "  'lastmod': '2025,01,14,20:55'},\n",
       " {'title': 'Архів:ДАЖО/1/75/202',\n",
       "  'link': '/wiki/%D0%90%D1%80%D1%85%D1%96%D0%B2:%D0%94%D0%90%D0%96%D0%9E/1/75/202',\n",
       "  'lastmod': '2025,01,11,13:15'},\n",
       " {'title': 'Архів:ДАЖО/1/77/1543',\n",
       "  'link': '/wiki/%D0%90%D1%80%D1%85%D1%96%D0%B2:%D0%94%D0%90%D0%96%D0%9E/1/77/1543',\n",
       "  'lastmod': '2024,12,9,19:54'},\n",
       " {'title': 'Архів:ДАЖО/1/77/1554',\n",
       "  'link': '/wiki/%D0%90%D1%80%D1%85%D1%96%D0%B2:%D0%94%D0%90%D0%96%D0%9E/1/77/1554',\n",
       "  'lastmod': '2024,12,9,18:43'},\n",
       " {'title': 'Архів:ДАЖО/1/77/1531',\n",
       "  'link': '/wiki/%D0%90%D1%80%D1%85%D1%96%D0%B2:%D0%94%D0%90%D0%96%D0%9E/1/77/1531',\n",
       "  'lastmod': '2024,12,9,18:41'},\n",
       " {'title': 'Архів:ДАЖО/1/77/1460',\n",
       "  'link': '/wiki/%D0%90%D1%80%D1%85%D1%96%D0%B2:%D0%94%D0%90%D0%96%D0%9E/1/77/1460',\n",
       "  'lastmod': '2024,12,9,18:17'},\n",
       " {'title': 'Архів:ДАЖО/127/2',\n",
       "  'link': '/wiki/%D0%90%D1%80%D1%85%D1%96%D0%B2:%D0%94%D0%90%D0%96%D0%9E/127/2',\n",
       "  'lastmod': '2024,12,8,12:58'},\n",
       " {'title': 'Архів:ДАЖО/126/2',\n",
       "  'link': '/wiki/%D0%90%D1%80%D1%85%D1%96%D0%B2:%D0%94%D0%90%D0%96%D0%9E/126/2',\n",
       "  'lastmod': '2024,12,8,12:57'},\n",
       " {'title': 'Архів:ДАЖО/118/3д',\n",
       "  'link': '/wiki/%D0%90%D1%80%D1%85%D1%96%D0%B2:%D0%94%D0%90%D0%96%D0%9E/118/3%D0%B4',\n",
       "  'lastmod': '2024,12,8,12:36'},\n",
       " {'title': 'Архів:ДАЖО/Р-5069/1/71',\n",
       "  'link': '/wiki/%D0%90%D1%80%D1%85%D1%96%D0%B2:%D0%94%D0%90%D0%96%D0%9E/%D0%A0-5069/1/71',\n",
       "  'lastmod': '2024,11,28,18:16'},\n",
       " {'title': 'Архів:ДАЖО/1/77/1303',\n",
       "  'link': '/wiki/%D0%90%D1%80%D1%85%D1%96%D0%B2:%D0%94%D0%90%D0%96%D0%9E/1/77/1303',\n",
       "  'lastmod': '2024,11,28,09:15'},\n",
       " {'title': 'Архів:ДАЖО/1/77/1267',\n",
       "  'link': '/wiki/%D0%90%D1%80%D1%85%D1%96%D0%B2:%D0%94%D0%90%D0%96%D0%9E/1/77/1267',\n",
       "  'lastmod': '2024,11,28,09:12'},\n",
       " {'title': 'Архів:ДАЖО/263',\n",
       "  'link': '/wiki/%D0%90%D1%80%D1%85%D1%96%D0%B2:%D0%94%D0%90%D0%96%D0%9E/263',\n",
       "  'lastmod': '2024,11,20,15:03'},\n",
       " {'title': 'Архів:ДАЖО/146',\n",
       "  'link': '/wiki/%D0%90%D1%80%D1%85%D1%96%D0%B2:%D0%94%D0%90%D0%96%D0%9E/146',\n",
       "  'lastmod': '2024,11,17,11:33'}]"
      ]
     },
     "execution_count": 14,
     "metadata": {},
     "output_type": "execute_result"
    }
   ],
   "source": [
    "result=do_search(a.name, limit=30)\n",
    "result"
   ]
  },
  {
   "cell_type": "code",
   "execution_count": 15,
   "metadata": {},
   "outputs": [
    {
     "name": "stdout",
     "output_type": "stream",
     "text": [
      "[[{'text': '1', 'link': '/wiki/%D0%90%D1%80%D1%85%D1%96%D0%B2:%D0%94%D0%90%D0%96%D0%9E/1'}, {'text': 'Volyn Spiritual Consistory of Zhytomyr, Volyn Province', 'link': None}, {'text': '1741–1921', 'link': None}, {'text': '', 'link': None}]]\n",
      "Retrieving from cache: Архів:ДАЖО/Д/1\n",
      "[[{'text': '75', 'link': '/wiki/%D0%90%D1%80%D1%85%D1%96%D0%B2:%D0%94%D0%90%D0%96%D0%9E/1/75'}, {'text': 'Metric books of Novograd-Volynsky, Ovruch, Starokostiantyniv districts. Confessional information on Starokostiantyniv County', 'link': None}, {'text': '1796–1913', 'link': None}, {'text': '273', 'link': None}]]\n",
      "Retrieving from cache: Архів:ДАЖО/Д/1/75\n"
     ]
    },
    {
     "data": {
      "text/plain": [
       "<archivescraper.Opus at 0x130dd7d90>"
      ]
     },
     "execution_count": 15,
     "metadata": {},
     "output_type": "execute_result"
    }
   ],
   "source": [
    "a.lookup('1').lookup('75')"
   ]
  },
  {
   "cell_type": "code",
   "execution_count": 16,
   "metadata": {},
   "outputs": [
    {
     "name": "stdout",
     "output_type": "stream",
     "text": [
      "[[{'text': '1', 'link': '/wiki/%D0%90%D1%80%D1%85%D1%96%D0%B2:%D0%94%D0%90%D0%96%D0%9E/1'}, {'text': 'Volyn Spiritual Consistory of Zhytomyr, Volyn Province', 'link': None}, {'text': '1741–1921', 'link': None}, {'text': '', 'link': None}]]\n",
      "Retrieving from cache: Архів:ДАЖО/Д/1\n",
      "[[{'text': '75', 'link': '/wiki/%D0%90%D1%80%D1%85%D1%96%D0%B2:%D0%94%D0%90%D0%96%D0%9E/1/75'}, {'text': 'Metric books of Novograd-Volynsky, Ovruch, Starokostiantyniv districts. Confessional information on Starokostiantyniv County', 'link': None}, {'text': '1796–1913', 'link': None}, {'text': '273', 'link': None}]]\n",
      "Retrieving from cache: Архів:ДАЖО/Д/1/75\n"
     ]
    },
    {
     "data": {
      "text/plain": [
       "'2025,02,28,10:14'"
      ]
     },
     "execution_count": 16,
     "metadata": {},
     "output_type": "execute_result"
    }
   ],
   "source": [
    "a.lookup('1').lookup('75').lastmod"
   ]
  },
  {
   "cell_type": "code",
   "execution_count": 17,
   "metadata": {},
   "outputs": [
    {
     "data": {
      "text/plain": [
       "'2025,01,19,12:47'"
      ]
     },
     "execution_count": 17,
     "metadata": {},
     "output_type": "execute_result"
    }
   ],
   "source": [
    "a.lastmod"
   ]
  },
  {
   "cell_type": "code",
   "execution_count": 18,
   "metadata": {},
   "outputs": [
    {
     "data": {
      "text/plain": [
       "'Архів:ДАЖО/Д/1/74'"
      ]
     },
     "execution_count": 18,
     "metadata": {},
     "output_type": "execute_result"
    }
   ],
   "source": [
    "o.name"
   ]
  },
  {
   "cell_type": "code",
   "execution_count": 21,
   "metadata": {},
   "outputs": [
    {
     "data": {
      "text/plain": [
       "[{'title': 'Архів:ДАЖО/1/74/319',\n",
       "  'link': '/wiki/%D0%90%D1%80%D1%85%D1%96%D0%B2:%D0%94%D0%90%D0%96%D0%9E/1/74/319',\n",
       "  'lastmod': '2025,03,1,14:21'},\n",
       " {'title': 'Архів:ДАЖО/1/74/325',\n",
       "  'link': '/wiki/%D0%90%D1%80%D1%85%D1%96%D0%B2:%D0%94%D0%90%D0%96%D0%9E/1/74/325',\n",
       "  'lastmod': '2025,03,1,13:47'},\n",
       " {'title': 'Архів:ДАЖО/1/74/329',\n",
       "  'link': '/wiki/%D0%90%D1%80%D1%85%D1%96%D0%B2:%D0%94%D0%90%D0%96%D0%9E/1/74/329',\n",
       "  'lastmod': '2025,03,1,13:46'},\n",
       " {'title': 'Архів:ДАЖО/1/74/333',\n",
       "  'link': '/wiki/%D0%90%D1%80%D1%85%D1%96%D0%B2:%D0%94%D0%90%D0%96%D0%9E/1/74/333',\n",
       "  'lastmod': '2025,03,1,11:59'},\n",
       " {'title': 'Архів:ДАЖО/1/77/44',\n",
       "  'link': '/wiki/%D0%90%D1%80%D1%85%D1%96%D0%B2:%D0%94%D0%90%D0%96%D0%9E/1/77/44',\n",
       "  'lastmod': '2025,03,1,11:58'},\n",
       " {'title': 'Архів:ДАЖО/1/77/43',\n",
       "  'link': '/wiki/%D0%90%D1%80%D1%85%D1%96%D0%B2:%D0%94%D0%90%D0%96%D0%9E/1/77/43',\n",
       "  'lastmod': '2025,03,1,11:56'},\n",
       " {'title': 'Архів:ДАЖО/1/74/346',\n",
       "  'link': '/wiki/%D0%90%D1%80%D1%85%D1%96%D0%B2:%D0%94%D0%90%D0%96%D0%9E/1/74/346',\n",
       "  'lastmod': '2025,03,1,11:51'},\n",
       " {'title': 'Архів:ДАЖО/1/78',\n",
       "  'link': '/wiki/%D0%90%D1%80%D1%85%D1%96%D0%B2:%D0%94%D0%90%D0%96%D0%9E/1/78',\n",
       "  'lastmod': '2025,02,28,22:38'},\n",
       " {'title': 'Архів:ДАЖО/118/14',\n",
       "  'link': '/wiki/%D0%90%D1%80%D1%85%D1%96%D0%B2:%D0%94%D0%90%D0%96%D0%9E/118/14',\n",
       "  'lastmod': '2025,02,28,18:48'},\n",
       " {'title': 'Архів:ДАЖО/1/84',\n",
       "  'link': '/wiki/%D0%90%D1%80%D1%85%D1%96%D0%B2:%D0%94%D0%90%D0%96%D0%9E/1/84',\n",
       "  'lastmod': '2025,02,28,11:40'}]"
      ]
     },
     "execution_count": 21,
     "metadata": {},
     "output_type": "execute_result"
    }
   ],
   "source": [
    "do_search('Архів:ДАЖО/1/74')"
   ]
  },
  {
   "cell_type": "code",
   "execution_count": 22,
   "metadata": {},
   "outputs": [
    {
     "data": {
      "text/plain": [
       "'Архів:ДАЖО/Д'"
      ]
     },
     "execution_count": 22,
     "metadata": {},
     "output_type": "execute_result"
    }
   ],
   "source": [
    "a.name"
   ]
  },
  {
   "cell_type": "code",
   "execution_count": null,
   "metadata": {},
   "outputs": [],
   "source": []
  },
  {
   "cell_type": "code",
   "execution_count": null,
   "metadata": {},
   "outputs": [],
   "source": []
  },
  {
   "cell_type": "code",
   "execution_count": null,
   "metadata": {},
   "outputs": [],
   "source": []
  }
 ],
 "metadata": {
  "kernelspec": {
   "display_name": "Python 3 (ipykernel)",
   "language": "python",
   "name": "python3"
  },
  "language_info": {
   "codemirror_mode": {
    "name": "ipython",
    "version": 3
   },
   "file_extension": ".py",
   "mimetype": "text/x-python",
   "name": "python",
   "nbconvert_exporter": "python",
   "pygments_lexer": "ipython3",
   "version": "3.11.5"
  }
 },
 "nbformat": 4,
 "nbformat_minor": 4
}
