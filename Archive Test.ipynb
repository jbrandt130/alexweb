{
 "cells": [
  {
   "cell_type": "code",
   "execution_count": 1,
   "metadata": {},
   "outputs": [
    {
     "name": "stderr",
     "output_type": "stream",
     "text": [
      "/usr/local/anaconda3/lib/python3.8/site-packages/pandas/core/computation/expressions.py:20: UserWarning: Pandas requires version '2.7.3' or newer of 'numexpr' (version '2.7.1' currently installed).\n",
      "  from pandas.core.computation.check import NUMEXPR_INSTALLED\n"
     ]
    }
   ],
   "source": [
    "from archivescraper import *"
   ]
  },
  {
   "cell_type": "code",
   "execution_count": 2,
   "metadata": {},
   "outputs": [
    {
     "name": "stdout",
     "output_type": "stream",
     "text": [
      "open_url: https://uk.wikisource.org/wiki/%D0%90%D1%80%D1%85%D1%96%D0%B2%3A%D0%94%D0%90%D0%9A%D1%80%D0%9E/%D0%94\n",
      "archive,DAKrO/Д,2022,04,12,18:18\n"
     ]
    }
   ],
   "source": [
    "a=Archive('DAKrO')\n",
    "print(a.report)"
   ]
  },
  {
   "cell_type": "code",
   "execution_count": 3,
   "metadata": {},
   "outputs": [
    {
     "name": "stdout",
     "output_type": "stream",
     "text": [
      "open_url: https://uk.wikisource.org/wiki/%D0%90%D1%80%D1%85%D1%96%D0%B2:%D0%94%D0%90%D0%9A%D1%80%D0%9E/80\n",
      "fond,DAKrO/80,2021,02,13,23:37\n"
     ]
    }
   ],
   "source": [
    "f = a.lookup('80')\n",
    "print(f.report)"
   ]
  },
  {
   "cell_type": "code",
   "execution_count": 4,
   "metadata": {},
   "outputs": [
    {
     "name": "stdout",
     "output_type": "stream",
     "text": [
      "open_url: https://uk.wikisource.org/wiki/%D0%90%D1%80%D1%85%D1%96%D0%B2:%D0%94%D0%90%D0%9A%D1%80%D0%9E/80/1\n",
      "opus,DAKrO/80/1,2022,03,31,20:10\n"
     ]
    }
   ],
   "source": [
    "o = f.lookup('1')\n",
    "print(o.report)"
   ]
  },
  {
   "cell_type": "code",
   "execution_count": 5,
   "metadata": {},
   "outputs": [],
   "source": [
    "def scan_fond(fond):\n",
    "    for o in range(len(fond.children)):\n",
    "        opus = Opus(f.children[o], fond)\n",
    "        print(opus.report)\n",
    "        for c in range(len(opus.children)):\n",
    "            case = Case(opus.children[c], opus)\n",
    "            print(case.report)    "
   ]
  },
  {
   "cell_type": "code",
   "execution_count": 6,
   "metadata": {},
   "outputs": [
    {
     "name": "stdout",
     "output_type": "stream",
     "text": [
      "open_url: https://uk.wikisource.org/wiki/%D0%90%D1%80%D1%85%D1%96%D0%B2:%D0%94%D0%90%D0%9A%D1%80%D0%9E/84\n",
      "open_url: https://uk.wikisource.org/wiki/%D0%90%D1%80%D1%85%D1%96%D0%B2:%D0%94%D0%90%D0%9A%D1%80%D0%9E/80/1\n",
      "opus,DAKrO/84/1,2022,03,31,20:10\n"
     ]
    }
   ],
   "source": [
    "scan_fond(a.lookup('84'))"
   ]
  },
  {
   "cell_type": "code",
   "execution_count": 7,
   "metadata": {},
   "outputs": [
    {
     "name": "stdout",
     "output_type": "stream",
     "text": [
      "open_url: https://uk.wikisource.org/wiki/%D0%90%D1%80%D1%85%D1%96%D0%B2%3A%D0%94%D0%90%D0%9A%D0%9E/%D0%A0\n",
      "archive,DAKO/Р,2021,08,25,21:13\n"
     ]
    }
   ],
   "source": [
    "archive = Archive('DAKO', subarchive=subarchives[1])\n",
    "print(archive.report)"
   ]
  },
  {
   "cell_type": "code",
   "execution_count": 8,
   "metadata": {},
   "outputs": [
    {
     "name": "stdout",
     "output_type": "stream",
     "text": [
      "open_url: https://uk.wikisource.org/wiki/%D0%90%D1%80%D1%85%D1%96%D0%B2%3A%D0%94%D0%90%D0%86%D0%A4%D0%9E/%D0%94\n",
      "archive,DAIFO/Д,2022,10,6,07:22\n",
      "open_url: https://uk.wikisource.org/wiki/%D0%90%D1%80%D1%85%D1%96%D0%B2:%D0%94%D0%90%D0%86%D0%A4%D0%9E/27\n",
      "fond,DAIFO/27,2022,10,6,09:59\n",
      "open_url: https://uk.wikisource.org/wiki/%D0%90%D1%80%D1%85%D1%96%D0%B2:%D0%94%D0%90%D0%86%D0%A4%D0%9E/27/1\n",
      "opus,DAIFO/27/1,2022,07,23,19:14\n",
      "open_url: https://uk.wikisource.org/wiki/%D0%90%D1%80%D1%85%D1%96%D0%B2:%D0%94%D0%90%D0%86%D0%A4%D0%9E/27/2\n",
      "opus,DAIFO/27/2,2022,07,23,19:15\n",
      "open_url: https://uk.wikisource.org/wiki/%D0%90%D1%80%D1%85%D1%96%D0%B2:%D0%94%D0%90%D0%86%D0%A4%D0%9E/631\n",
      "fond,DAIFO/631,2022,10,6,09:59\n",
      "open_url: https://uk.wikisource.org/wiki/%D0%90%D1%80%D1%85%D1%96%D0%B2:%D0%94%D0%90%D0%86%D0%A4%D0%9E/631/4\n",
      "opus,DAIFO/631/4,2022,10,6,07:40\n",
      "open_url: https://uk.wikisource.org/wiki/%D0%90%D1%80%D1%85%D1%96%D0%B2:%D0%94%D0%90%D0%86%D0%A4%D0%9E/631/4/28\n",
      "case,DAIFO/631/4/28,2022,10,6,08:47\n",
      "open_url: https://uk.wikisource.org/wiki/%D0%90%D1%80%D1%85%D1%96%D0%B2%3A%D0%94%D0%90%D0%86%D0%A4%D0%9E/%D0%A0\n",
      "404: Page not found\n",
      "Table not found: https://uk.wikisource.org/wiki/%D0%90%D1%80%D1%85%D1%96%D0%B2%3A%D0%94%D0%90%D0%86%D0%A4%D0%9E/%D0%A0\n",
      "archive,DAIFO/Р,None\n",
      "open_url: https://uk.wikisource.org/wiki/%D0%90%D1%80%D1%85%D1%96%D0%B2%3A%D0%94%D0%90%D0%86%D0%A4%D0%9E/%D0%9F\n",
      "404: Page not found\n",
      "Table not found: https://uk.wikisource.org/wiki/%D0%90%D1%80%D1%85%D1%96%D0%B2%3A%D0%94%D0%90%D0%86%D0%A4%D0%9E/%D0%9F\n",
      "archive,DAIFO/П,None\n"
     ]
    }
   ],
   "source": [
    "for sub in subarchives:\n",
    "    scan_archive(Archive('DAIFO', subarchive=sub))"
   ]
  },
  {
   "cell_type": "code",
   "execution_count": null,
   "metadata": {},
   "outputs": [],
   "source": []
  }
 ],
 "metadata": {
  "kernelspec": {
   "display_name": "Python 3",
   "language": "python",
   "name": "python3"
  },
  "language_info": {
   "codemirror_mode": {
    "name": "ipython",
    "version": 3
   },
   "file_extension": ".py",
   "mimetype": "text/x-python",
   "name": "python",
   "nbconvert_exporter": "python",
   "pygments_lexer": "ipython3",
   "version": "3.8.5"
  }
 },
 "nbformat": 4,
 "nbformat_minor": 4
}
