{
 "cells": [
  {
   "cell_type": "code",
   "execution_count": 1,
   "metadata": {},
   "outputs": [
    {
     "name": "stderr",
     "output_type": "stream",
     "text": [
      "/usr/local/anaconda3/lib/python3.8/site-packages/pandas/core/computation/expressions.py:20: UserWarning: Pandas requires version '2.7.3' or newer of 'numexpr' (version '2.7.1' currently installed).\n",
      "  from pandas.core.computation.check import NUMEXPR_INSTALLED\n"
     ]
    }
   ],
   "source": [
    "from archivescraper import *"
   ]
  },
  {
   "cell_type": "code",
   "execution_count": 2,
   "metadata": {},
   "outputs": [
    {
     "name": "stdout",
     "output_type": "stream",
     "text": [
      "open_url: https://uk.wikisource.org/wiki/%D0%90%D1%80%D1%85%D1%96%D0%B2%3A%D0%94%D0%90%D0%90%D0%A0%D0%9A/%D0%94\n"
     ]
    }
   ],
   "source": [
    "archive = Archive('DAARC')"
   ]
  },
  {
   "cell_type": "code",
   "execution_count": 3,
   "metadata": {},
   "outputs": [
    {
     "name": "stdout",
     "output_type": "stream",
     "text": [
      "archive,DAARC/Д,2022,11,10,09:29\n"
     ]
    }
   ],
   "source": [
    "print(archive.report)"
   ]
  },
  {
   "cell_type": "code",
   "execution_count": 4,
   "metadata": {},
   "outputs": [
    {
     "name": "stdout",
     "output_type": "stream",
     "text": [
      "open_url: https://uk.wikisource.org/wiki/%D0%90%D1%80%D1%85%D1%96%D0%B2:%D0%94%D0%90%D0%90%D0%A0%D0%9A/49\n"
     ]
    }
   ],
   "source": [
    "fond = archive.lookup('49')"
   ]
  },
  {
   "cell_type": "code",
   "execution_count": 5,
   "metadata": {},
   "outputs": [
    {
     "name": "stdout",
     "output_type": "stream",
     "text": [
      "open_url: https://uk.wikisource.org/wiki/%D0%90%D1%80%D1%85%D1%96%D0%B2:%D0%94%D0%90%D0%90%D0%A0%D0%9A/49/1\n"
     ]
    }
   ],
   "source": [
    "opus = fond.lookup('1')"
   ]
  },
  {
   "cell_type": "code",
   "execution_count": 6,
   "metadata": {},
   "outputs": [
    {
     "data": {
      "text/plain": [
       "'fond,DAARC/49,2021,11,12,11:07'"
      ]
     },
     "execution_count": 6,
     "metadata": {},
     "output_type": "execute_result"
    }
   ],
   "source": [
    "fond.report"
   ]
  },
  {
   "cell_type": "code",
   "execution_count": 7,
   "metadata": {},
   "outputs": [
    {
     "data": {
      "text/plain": [
       "'opus,DAARC/49/1,2021,11,12,11:07'"
      ]
     },
     "execution_count": 7,
     "metadata": {},
     "output_type": "execute_result"
    }
   ],
   "source": [
    "opus.report"
   ]
  },
  {
   "cell_type": "code",
   "execution_count": 8,
   "metadata": {},
   "outputs": [
    {
     "name": "stdout",
     "output_type": "stream",
     "text": [
      "open_url: https://uk.wikisource.org/wiki/%D0%90%D1%80%D1%85%D1%96%D0%B2:%D0%94%D0%90%D0%90%D0%A0%D0%9A/49/1/1\n"
     ]
    }
   ],
   "source": [
    "case = opus.lookup('1')"
   ]
  },
  {
   "cell_type": "code",
   "execution_count": 9,
   "metadata": {},
   "outputs": [
    {
     "data": {
      "text/plain": [
       "'case,DAARC/49/1/1,2021,11,12,11:54'"
      ]
     },
     "execution_count": 9,
     "metadata": {},
     "output_type": "execute_result"
    }
   ],
   "source": [
    "case.report"
   ]
  },
  {
   "cell_type": "code",
   "execution_count": 10,
   "metadata": {},
   "outputs": [
    {
     "name": "stdout",
     "output_type": "stream",
     "text": [
      "open_url: https://uk.wikisource.org/wiki/%D0%90%D1%80%D1%85%D1%96%D0%B2%3A%D0%94%D0%90%D0%9A%D0%9E/%D0%A0\n"
     ]
    }
   ],
   "source": [
    "archive = Archive('DAKO', subarchive=subarchives[1])"
   ]
  },
  {
   "cell_type": "code",
   "execution_count": 11,
   "metadata": {},
   "outputs": [],
   "source": [
    "#for sub in subarchives:\n",
    "#    scan_archive(Archive('DAK', subarchive=sub))"
   ]
  },
  {
   "cell_type": "code",
   "execution_count": 15,
   "metadata": {},
   "outputs": [
    {
     "name": "stdout",
     "output_type": "stream",
     "text": [
      "open_url: https://uk.wikisource.org/wiki/%D0%90%D1%80%D1%85%D1%96%D0%B2%3A%D0%94%D0%90%D0%9B%D0%9E/%D0%94\n",
      "archive,DALO/Д,2021,03,2,21:42\n",
      "open_url: https://uk.wikisource.org/wiki/%D0%90%D1%80%D1%85%D1%96%D0%B2%3A%D0%94%D0%90%D0%9B%D0%9E/%D0%A0\n",
      "archive,DALO/Р,2021,03,10,00:40\n",
      "open_url: https://uk.wikisource.org/wiki/%D0%90%D1%80%D1%85%D1%96%D0%B2:%D0%94%D0%90%D0%9B%D0%9E/%D0%A0-8\n",
      "fond,DALO/Р-8,2021,03,8,16:08\n",
      "open_url: https://uk.wikisource.org/wiki/%D0%90%D1%80%D1%85%D1%96%D0%B2:%D0%94%D0%90%D0%9B%D0%9E/%D0%A0-10\n",
      "fond,DALO/Р-10,2021,03,8,16:10\n",
      "open_url: https://uk.wikisource.org/wiki/%D0%90%D1%80%D1%85%D1%96%D0%B2:%D0%94%D0%90%D0%9B%D0%9E/%D0%A0-11\n",
      "fond,DALO/Р-11,2021,03,8,16:14\n",
      "open_url: https://uk.wikisource.org/wiki/%D0%90%D1%80%D1%85%D1%96%D0%B2:%D0%94%D0%90%D0%9B%D0%9E/%D0%A0-12\n",
      "fond,DALO/Р-12,2021,03,8,16:31\n",
      "open_url: https://uk.wikisource.org/wiki/%D0%90%D1%80%D1%85%D1%96%D0%B2:%D0%94%D0%90%D0%9B%D0%9E/%D0%A0-13\n",
      "fond,DALO/Р-13,2021,03,8,16:34\n",
      "open_url: https://uk.wikisource.org/wiki/%D0%90%D1%80%D1%85%D1%96%D0%B2:%D0%94%D0%90%D0%9B%D0%9E/%D0%A0-15\n",
      "fond,DALO/Р-15,2021,03,8,16:42\n",
      "open_url: https://uk.wikisource.org/wiki/%D0%90%D1%80%D1%85%D1%96%D0%B2:%D0%94%D0%90%D0%9B%D0%9E/%D0%A0-16\n",
      "fond,DALO/Р-16,2021,03,8,16:46\n",
      "open_url: https://uk.wikisource.org/wiki/%D0%90%D1%80%D1%85%D1%96%D0%B2:%D0%94%D0%90%D0%9B%D0%9E/%D0%A0-23\n",
      "fond,DALO/Р-23,2021,03,8,16:54\n",
      "open_url: https://uk.wikisource.org/wiki/%D0%90%D1%80%D1%85%D1%96%D0%B2:%D0%94%D0%90%D0%9B%D0%9E/%D0%A0-24\n",
      "fond,DALO/Р-24,2021,03,8,17:26\n",
      "open_url: https://uk.wikisource.org/wiki/%D0%90%D1%80%D1%85%D1%96%D0%B2:%D0%94%D0%90%D0%9B%D0%9E/%D0%A0-25\n",
      "fond,DALO/Р-25,2021,03,8,17:33\n",
      "open_url: https://uk.wikisource.org/wiki/%D0%90%D1%80%D1%85%D1%96%D0%B2:%D0%94%D0%90%D0%9B%D0%9E/%D0%A0-27\n",
      "fond,DALO/Р-27,2021,03,8,17:34\n",
      "open_url: https://uk.wikisource.org/wiki/%D0%90%D1%80%D1%85%D1%96%D0%B2:%D0%94%D0%90%D0%9B%D0%9E/%D0%A0-28\n",
      "fond,DALO/Р-28,2021,03,8,17:35\n",
      "open_url: https://uk.wikisource.org/wiki/%D0%90%D1%80%D1%85%D1%96%D0%B2:%D0%94%D0%90%D0%9B%D0%9E/%D0%A0-29\n",
      "fond,DALO/Р-29,2021,03,8,17:40\n",
      "open_url: https://uk.wikisource.org/wiki/%D0%90%D1%80%D1%85%D1%96%D0%B2:%D0%94%D0%90%D0%9B%D0%9E/%D0%A0-30\n",
      "fond,DALO/Р-30,2021,03,8,17:36\n",
      "open_url: https://uk.wikisource.org/wiki/%D0%90%D1%80%D1%85%D1%96%D0%B2:%D0%94%D0%90%D0%9B%D0%9E/%D0%A0-31\n",
      "fond,DALO/Р-31,2021,03,8,17:37\n",
      "open_url: https://uk.wikisource.org/wiki/%D0%90%D1%80%D1%85%D1%96%D0%B2:%D0%94%D0%90%D0%9B%D0%9E/%D0%A0-33\n",
      "fond,DALO/Р-33,2021,03,8,17:44\n",
      "open_url: https://uk.wikisource.org/wiki/%D0%90%D1%80%D1%85%D1%96%D0%B2:%D0%94%D0%90%D0%9B%D0%9E/%D0%A0-34\n",
      "fond,DALO/Р-34,2021,03,8,17:47\n",
      "open_url: https://uk.wikisource.org/wiki/%D0%90%D1%80%D1%85%D1%96%D0%B2:%D0%94%D0%90%D0%9B%D0%9E/%D0%A0-35\n",
      "fond,DALO/Р-35,2021,03,9,22:36\n",
      "open_url: https://uk.wikisource.org/wiki/%D0%90%D1%80%D1%85%D1%96%D0%B2:%D0%94%D0%90%D0%9B%D0%9E/%D0%A0-36\n",
      "fond,DALO/Р-36,2021,03,8,18:21\n",
      "open_url: https://uk.wikisource.org/wiki/%D0%90%D1%80%D1%85%D1%96%D0%B2:%D0%94%D0%90%D0%9B%D0%9E/%D0%A0-37\n",
      "fond,DALO/Р-37,2021,03,9,23:02\n",
      "open_url: https://uk.wikisource.org/wiki/%D0%90%D1%80%D1%85%D1%96%D0%B2:%D0%94%D0%90%D0%9B%D0%9E/%D0%A0-38\n",
      "fond,DALO/Р-38,2021,03,8,18:47\n",
      "open_url: https://uk.wikisource.org/wiki/%D0%90%D1%80%D1%85%D1%96%D0%B2:%D0%94%D0%90%D0%9B%D0%9E/%D0%A0-39\n",
      "fond,DALO/Р-39,2021,03,8,18:49\n",
      "open_url: https://uk.wikisource.org/wiki/%D0%90%D1%80%D1%85%D1%96%D0%B2:%D0%94%D0%90%D0%9B%D0%9E/%D0%A0-40\n",
      "fond,DALO/Р-40,2021,03,8,18:40\n",
      "open_url: https://uk.wikisource.org/wiki/%D0%90%D1%80%D1%85%D1%96%D0%B2:%D0%94%D0%90%D0%9B%D0%9E/%D0%A0-41\n",
      "fond,DALO/Р-41,2021,03,8,18:51\n",
      "open_url: https://uk.wikisource.org/wiki/%D0%90%D1%80%D1%85%D1%96%D0%B2:%D0%94%D0%90%D0%9B%D0%9E/%D0%A0-42\n",
      "fond,DALO/Р-42,2021,03,8,18:52\n",
      "open_url: https://uk.wikisource.org/wiki/%D0%90%D1%80%D1%85%D1%96%D0%B2:%D0%94%D0%90%D0%9B%D0%9E/%D0%A0-43\n",
      "fond,DALO/Р-43,2021,03,8,18:53\n",
      "open_url: https://uk.wikisource.org/wiki/%D0%90%D1%80%D1%85%D1%96%D0%B2:%D0%94%D0%90%D0%9B%D0%9E/%D0%A0-44\n",
      "fond,DALO/Р-44,2021,03,8,18:54\n",
      "open_url: https://uk.wikisource.org/wiki/%D0%90%D1%80%D1%85%D1%96%D0%B2:%D0%94%D0%90%D0%9B%D0%9E/%D0%A0-45\n",
      "fond,DALO/Р-45,2021,03,8,18:55\n",
      "open_url: https://uk.wikisource.org/wiki/%D0%90%D1%80%D1%85%D1%96%D0%B2:%D0%94%D0%90%D0%9B%D0%9E/%D0%A0-46\n",
      "fond,DALO/Р-46,2021,03,8,18:56\n",
      "open_url: https://uk.wikisource.org/wiki/%D0%90%D1%80%D1%85%D1%96%D0%B2:%D0%94%D0%90%D0%9B%D0%9E/%D0%A0-48\n",
      "fond,DALO/Р-48,2021,03,8,18:57\n",
      "open_url: https://uk.wikisource.org/wiki/%D0%90%D1%80%D1%85%D1%96%D0%B2:%D0%94%D0%90%D0%9B%D0%9E/%D0%A0-49\n",
      "fond,DALO/Р-49,2021,03,8,19:03\n",
      "open_url: https://uk.wikisource.org/wiki/%D0%90%D1%80%D1%85%D1%96%D0%B2:%D0%94%D0%90%D0%9B%D0%9E/%D0%A0-50\n",
      "fond,DALO/Р-50,2021,03,8,19:05\n",
      "open_url: https://uk.wikisource.org/wiki/%D0%90%D1%80%D1%85%D1%96%D0%B2:%D0%94%D0%90%D0%9B%D0%9E/%D0%A0-51\n",
      "fond,DALO/Р-51,2021,03,8,19:05\n",
      "open_url: https://uk.wikisource.org/wiki/%D0%90%D1%80%D1%85%D1%96%D0%B2:%D0%94%D0%90%D0%9B%D0%9E/%D0%A0-52\n",
      "fond,DALO/Р-52,2021,03,8,19:06\n",
      "open_url: https://uk.wikisource.org/wiki/%D0%90%D1%80%D1%85%D1%96%D0%B2:%D0%94%D0%90%D0%9B%D0%9E/%D0%A0-53\n",
      "fond,DALO/Р-53,2021,03,8,19:07\n",
      "open_url: https://uk.wikisource.org/wiki/%D0%90%D1%80%D1%85%D1%96%D0%B2:%D0%94%D0%90%D0%9B%D0%9E/%D0%A0-54\n",
      "fond,DALO/Р-54,2021,03,8,19:13\n",
      "open_url: https://uk.wikisource.org/wiki/%D0%90%D1%80%D1%85%D1%96%D0%B2:%D0%94%D0%90%D0%9B%D0%9E/%D0%A0-55\n",
      "fond,DALO/Р-55,2021,03,8,22:01\n",
      "open_url: https://uk.wikisource.org/wiki/%D0%90%D1%80%D1%85%D1%96%D0%B2:%D0%94%D0%90%D0%9B%D0%9E/%D0%A0-56\n",
      "fond,DALO/Р-56,2021,03,8,22:04\n",
      "open_url: https://uk.wikisource.org/wiki/%D0%90%D1%80%D1%85%D1%96%D0%B2:%D0%94%D0%90%D0%9B%D0%9E/%D0%A0-57\n",
      "fond,DALO/Р-57,2021,03,8,22:06\n",
      "open_url: https://uk.wikisource.org/wiki/%D0%90%D1%80%D1%85%D1%96%D0%B2:%D0%94%D0%90%D0%9B%D0%9E/%D0%A0-58\n",
      "fond,DALO/Р-58,2021,03,9,23:12\n",
      "open_url: https://uk.wikisource.org/wiki/%D0%90%D1%80%D1%85%D1%96%D0%B2:%D0%94%D0%90%D0%9B%D0%9E/%D0%A0-59\n",
      "fond,DALO/Р-59,2021,03,9,23:15\n",
      "open_url: https://uk.wikisource.org/wiki/%D0%90%D1%80%D1%85%D1%96%D0%B2:%D0%94%D0%90%D0%9B%D0%9E/%D0%A0-60\n",
      "fond,DALO/Р-60,2021,03,8,22:10\n",
      "open_url: https://uk.wikisource.org/wiki/%D0%90%D1%80%D1%85%D1%96%D0%B2:%D0%94%D0%90%D0%9B%D0%9E/%D0%A0-61\n",
      "fond,DALO/Р-61,2021,03,8,22:11\n",
      "open_url: https://uk.wikisource.org/wiki/%D0%90%D1%80%D1%85%D1%96%D0%B2:%D0%94%D0%90%D0%9B%D0%9E/%D0%A0-62\n",
      "fond,DALO/Р-62,2021,03,8,22:13\n",
      "open_url: https://uk.wikisource.org/wiki/%D0%90%D1%80%D1%85%D1%96%D0%B2:%D0%94%D0%90%D0%9B%D0%9E/%D0%A0-63\n",
      "fond,DALO/Р-63,2021,03,8,22:14\n",
      "open_url: https://uk.wikisource.org/wiki/%D0%90%D1%80%D1%85%D1%96%D0%B2:%D0%94%D0%90%D0%9B%D0%9E/%D0%A0-64\n",
      "fond,DALO/Р-64,2021,03,8,22:19\n",
      "open_url: https://uk.wikisource.org/wiki/%D0%90%D1%80%D1%85%D1%96%D0%B2:%D0%94%D0%90%D0%9B%D0%9E/%D0%A0-65\n",
      "fond,DALO/Р-65,2021,03,8,22:20\n",
      "open_url: https://uk.wikisource.org/wiki/%D0%90%D1%80%D1%85%D1%96%D0%B2:%D0%94%D0%90%D0%9B%D0%9E/%D0%A0-66\n",
      "fond,DALO/Р-66,2021,03,8,22:21\n",
      "open_url: https://uk.wikisource.org/wiki/%D0%90%D1%80%D1%85%D1%96%D0%B2:%D0%94%D0%90%D0%9B%D0%9E/%D0%A0-68\n",
      "fond,DALO/Р-68,2021,03,8,22:22\n",
      "open_url: https://uk.wikisource.org/wiki/%D0%90%D1%80%D1%85%D1%96%D0%B2:%D0%94%D0%90%D0%9B%D0%9E/%D0%A0-69\n",
      "fond,DALO/Р-69,2021,03,8,22:23\n",
      "open_url: https://uk.wikisource.org/wiki/%D0%90%D1%80%D1%85%D1%96%D0%B2:%D0%94%D0%90%D0%9B%D0%9E/%D0%A0-71\n",
      "fond,DALO/Р-71,2021,03,8,22:24\n",
      "open_url: https://uk.wikisource.org/wiki/%D0%90%D1%80%D1%85%D1%96%D0%B2:%D0%94%D0%90%D0%9B%D0%9E/%D0%A0-72\n",
      "fond,DALO/Р-72,2021,03,8,22:24\n",
      "open_url: https://uk.wikisource.org/wiki/%D0%90%D1%80%D1%85%D1%96%D0%B2:%D0%94%D0%90%D0%9B%D0%9E/%D0%A0-73\n",
      "fond,DALO/Р-73,2021,03,8,22:29\n",
      "open_url: https://uk.wikisource.org/wiki/%D0%90%D1%80%D1%85%D1%96%D0%B2:%D0%94%D0%90%D0%9B%D0%9E/%D0%A0-74\n",
      "fond,DALO/Р-74,2021,03,9,23:21\n",
      "open_url: https://uk.wikisource.org/wiki/%D0%90%D1%80%D1%85%D1%96%D0%B2:%D0%94%D0%90%D0%9B%D0%9E/%D0%A0-75\n",
      "fond,DALO/Р-75,2021,03,9,23:26\n",
      "open_url: https://uk.wikisource.org/wiki/%D0%90%D1%80%D1%85%D1%96%D0%B2:%D0%94%D0%90%D0%9B%D0%9E/%D0%A0-76\n",
      "fond,DALO/Р-76,2021,03,8,22:34\n",
      "open_url: https://uk.wikisource.org/wiki/%D0%90%D1%80%D1%85%D1%96%D0%B2:%D0%94%D0%90%D0%9B%D0%9E/%D0%A0-77\n",
      "fond,DALO/Р-77,2021,03,8,22:38\n",
      "open_url: https://uk.wikisource.org/wiki/%D0%90%D1%80%D1%85%D1%96%D0%B2:%D0%94%D0%90%D0%9B%D0%9E/%D0%A0-78\n"
     ]
    },
    {
     "name": "stdout",
     "output_type": "stream",
     "text": [
      "fond,DALO/Р-78,2021,03,8,22:39\n",
      "open_url: https://uk.wikisource.org/wiki/%D0%90%D1%80%D1%85%D1%96%D0%B2:%D0%94%D0%90%D0%9B%D0%9E/%D0%A0-80\n",
      "fond,DALO/Р-80,2021,03,8,22:40\n",
      "open_url: https://uk.wikisource.org/wiki/%D0%90%D1%80%D1%85%D1%96%D0%B2:%D0%94%D0%90%D0%9B%D0%9E/%D0%A0-81\n",
      "fond,DALO/Р-81,2021,03,8,22:41\n",
      "open_url: https://uk.wikisource.org/wiki/%D0%90%D1%80%D1%85%D1%96%D0%B2:%D0%94%D0%90%D0%9B%D0%9E/%D0%A0-82\n",
      "fond,DALO/Р-82,2021,03,9,23:34\n",
      "open_url: https://uk.wikisource.org/wiki/%D0%90%D1%80%D1%85%D1%96%D0%B2:%D0%94%D0%90%D0%9B%D0%9E/%D0%A0-83\n",
      "fond,DALO/Р-83,2021,03,8,22:47\n",
      "open_url: https://uk.wikisource.org/wiki/%D0%90%D1%80%D1%85%D1%96%D0%B2:%D0%94%D0%90%D0%9B%D0%9E/%D0%A0-84\n",
      "fond,DALO/Р-84,2021,03,9,23:37\n",
      "open_url: https://uk.wikisource.org/wiki/%D0%90%D1%80%D1%85%D1%96%D0%B2:%D0%94%D0%90%D0%9B%D0%9E/%D0%A0-85\n",
      "fond,DALO/Р-85,2021,03,9,23:40\n",
      "open_url: https://uk.wikisource.org/wiki/%D0%90%D1%80%D1%85%D1%96%D0%B2:%D0%94%D0%90%D0%9B%D0%9E/%D0%A0-86\n",
      "fond,DALO/Р-86,2021,03,8,22:48\n",
      "open_url: https://uk.wikisource.org/wiki/%D0%90%D1%80%D1%85%D1%96%D0%B2:%D0%94%D0%90%D0%9B%D0%9E/%D0%A0-87\n",
      "fond,DALO/Р-87,2021,03,8,22:50\n",
      "open_url: https://uk.wikisource.org/wiki/%D0%90%D1%80%D1%85%D1%96%D0%B2:%D0%94%D0%90%D0%9B%D0%9E/%D0%A0-98\n",
      "fond,DALO/Р-98,2021,03,8,22:58\n",
      "open_url: https://uk.wikisource.org/wiki/%D0%90%D1%80%D1%85%D1%96%D0%B2:%D0%94%D0%90%D0%9B%D0%9E/%D0%A0-102\n",
      "fond,DALO/Р-102,2021,03,8,22:52\n",
      "open_url: https://uk.wikisource.org/wiki/%D0%90%D1%80%D1%85%D1%96%D0%B2:%D0%94%D0%90%D0%9B%D0%9E/%D0%A0-160\n",
      "fond,DALO/Р-160,2021,03,8,22:54\n",
      "open_url: https://uk.wikisource.org/wiki/%D0%90%D1%80%D1%85%D1%96%D0%B2:%D0%94%D0%90%D0%9B%D0%9E/%D0%A0-161\n",
      "fond,DALO/Р-161,2021,03,9,23:47\n",
      "open_url: https://uk.wikisource.org/wiki/%D0%90%D1%80%D1%85%D1%96%D0%B2:%D0%94%D0%90%D0%9B%D0%9E/%D0%A0-162\n",
      "fond,DALO/Р-162,2021,03,9,23:50\n",
      "open_url: https://uk.wikisource.org/wiki/%D0%90%D1%80%D1%85%D1%96%D0%B2:%D0%94%D0%90%D0%9B%D0%9E/%D0%A0-183\n",
      "fond,DALO/Р-183,2021,03,9,23:53\n",
      "open_url: https://uk.wikisource.org/wiki/%D0%90%D1%80%D1%85%D1%96%D0%B2:%D0%94%D0%90%D0%9B%D0%9E/%D0%A0-185\n",
      "fond,DALO/Р-185,2021,03,9,23:58\n",
      "open_url: https://uk.wikisource.org/wiki/%D0%90%D1%80%D1%85%D1%96%D0%B2:%D0%94%D0%90%D0%9B%D0%9E/%D0%A0-197\n",
      "fond,DALO/Р-197,2021,03,9,23:58\n",
      "open_url: https://uk.wikisource.org/wiki/%D0%90%D1%80%D1%85%D1%96%D0%B2:%D0%94%D0%90%D0%9B%D0%9E/%D0%A0-201\n",
      "fond,DALO/Р-201,2021,03,10,00:03\n",
      "open_url: https://uk.wikisource.org/wiki/%D0%90%D1%80%D1%85%D1%96%D0%B2:%D0%94%D0%90%D0%9B%D0%9E/%D0%A0-205\n",
      "fond,DALO/Р-205,2021,03,10,00:05\n",
      "open_url: https://uk.wikisource.org/wiki/%D0%90%D1%80%D1%85%D1%96%D0%B2:%D0%94%D0%90%D0%9B%D0%9E/%D0%A0-206\n",
      "fond,DALO/Р-206,2021,03,10,00:06\n",
      "open_url: https://uk.wikisource.org/wiki/%D0%90%D1%80%D1%85%D1%96%D0%B2:%D0%94%D0%90%D0%9B%D0%9E/%D0%A0-217\n",
      "fond,DALO/Р-217,2021,03,10,00:06\n",
      "open_url: https://uk.wikisource.org/wiki/%D0%90%D1%80%D1%85%D1%96%D0%B2:%D0%94%D0%90%D0%9B%D0%9E/%D0%A0-265\n",
      "fond,DALO/Р-265,2021,03,10,00:11\n",
      "open_url: https://uk.wikisource.org/wiki/%D0%90%D1%80%D1%85%D1%96%D0%B2:%D0%94%D0%90%D0%9B%D0%9E/%D0%A0-266\n",
      "fond,DALO/Р-266,2021,03,10,00:12\n",
      "open_url: https://uk.wikisource.org/wiki/%D0%90%D1%80%D1%85%D1%96%D0%B2:%D0%94%D0%90%D0%9B%D0%9E/%D0%A0-267\n",
      "fond,DALO/Р-267,2021,03,10,00:14\n",
      "open_url: https://uk.wikisource.org/wiki/%D0%90%D1%80%D1%85%D1%96%D0%B2:%D0%94%D0%90%D0%9B%D0%9E/%D0%A0-268\n",
      "fond,DALO/Р-268,2021,03,10,09:46\n",
      "open_url: https://uk.wikisource.org/wiki/%D0%90%D1%80%D1%85%D1%96%D0%B2:%D0%94%D0%90%D0%9B%D0%9E/%D0%A0-269\n",
      "fond,DALO/Р-269,2021,03,10,00:15\n",
      "open_url: https://uk.wikisource.org/wiki/%D0%90%D1%80%D1%85%D1%96%D0%B2:%D0%94%D0%90%D0%9B%D0%9E/%D0%A0-274\n",
      "fond,DALO/Р-274,2021,03,10,00:20\n",
      "open_url: https://uk.wikisource.org/wiki/%D0%90%D1%80%D1%85%D1%96%D0%B2:%D0%94%D0%90%D0%9B%D0%9E/%D0%A0-275\n",
      "fond,DALO/Р-275,2021,03,8,23:05\n",
      "open_url: https://uk.wikisource.org/wiki/%D0%90%D1%80%D1%85%D1%96%D0%B2:%D0%94%D0%90%D0%9B%D0%9E/%D0%A0-276\n",
      "fond,DALO/Р-276,2021,03,8,23:06\n",
      "open_url: https://uk.wikisource.org/wiki/%D0%90%D1%80%D1%85%D1%96%D0%B2:%D0%94%D0%90%D0%9B%D0%9E/%D0%A0-277\n",
      "fond,DALO/Р-277,2021,03,8,23:06\n",
      "open_url: https://uk.wikisource.org/wiki/%D0%90%D1%80%D1%85%D1%96%D0%B2:%D0%94%D0%90%D0%9B%D0%9E/%D0%A0-278\n",
      "fond,DALO/Р-278,2021,03,8,23:07\n",
      "open_url: https://uk.wikisource.org/wiki/%D0%90%D1%80%D1%85%D1%96%D0%B2:%D0%94%D0%90%D0%9B%D0%9E/%D0%A0-279\n",
      "fond,DALO/Р-279,2021,03,8,23:08\n",
      "open_url: https://uk.wikisource.org/wiki/%D0%90%D1%80%D1%85%D1%96%D0%B2:%D0%94%D0%90%D0%9B%D0%9E/%D0%A0-280\n",
      "fond,DALO/Р-280,2021,03,8,23:09\n",
      "open_url: https://uk.wikisource.org/wiki/%D0%90%D1%80%D1%85%D1%96%D0%B2:%D0%94%D0%90%D0%9B%D0%9E/%D0%A0-281\n",
      "fond,DALO/Р-281,2021,03,8,23:09\n",
      "open_url: https://uk.wikisource.org/wiki/%D0%90%D1%80%D1%85%D1%96%D0%B2:%D0%94%D0%90%D0%9B%D0%9E/%D0%A0-282\n",
      "fond,DALO/Р-282,2021,03,8,23:10\n",
      "open_url: https://uk.wikisource.org/wiki/%D0%90%D1%80%D1%85%D1%96%D0%B2:%D0%94%D0%90%D0%9B%D0%9E/%D0%A0-286\n",
      "fond,DALO/Р-286,2021,03,8,23:10\n",
      "open_url: https://uk.wikisource.org/wiki/%D0%90%D1%80%D1%85%D1%96%D0%B2:%D0%94%D0%90%D0%9B%D0%9E/%D0%A0-317\n",
      "fond,DALO/Р-317,2021,03,8,23:11\n",
      "open_url: https://uk.wikisource.org/wiki/%D0%90%D1%80%D1%85%D1%96%D0%B2:%D0%94%D0%90%D0%9B%D0%9E/%D0%A0-322\n",
      "fond,DALO/Р-322,2021,03,8,23:12\n",
      "open_url: https://uk.wikisource.org/wiki/%D0%90%D1%80%D1%85%D1%96%D0%B2:%D0%94%D0%90%D0%9B%D0%9E/%D0%A0-329\n",
      "fond,DALO/Р-329,2021,03,9,21:02\n",
      "open_url: https://uk.wikisource.org/wiki/%D0%90%D1%80%D1%85%D1%96%D0%B2:%D0%94%D0%90%D0%9B%D0%9E/%D0%A0-343\n",
      "fond,DALO/Р-343,2021,03,8,23:25\n",
      "open_url: https://uk.wikisource.org/wiki/%D0%90%D1%80%D1%85%D1%96%D0%B2:%D0%94%D0%90%D0%9B%D0%9E/%D0%A0-344\n",
      "fond,DALO/Р-344,2021,03,8,23:37\n",
      "open_url: https://uk.wikisource.org/wiki/%D0%90%D1%80%D1%85%D1%96%D0%B2:%D0%94%D0%90%D0%9B%D0%9E/%D0%A0-345\n",
      "fond,DALO/Р-345,2021,03,9,14:10\n",
      "open_url: https://uk.wikisource.org/wiki/%D0%90%D1%80%D1%85%D1%96%D0%B2:%D0%94%D0%90%D0%9B%D0%9E/%D0%A0-346\n",
      "fond,DALO/Р-346,2021,03,9,14:16\n",
      "open_url: https://uk.wikisource.org/wiki/%D0%90%D1%80%D1%85%D1%96%D0%B2:%D0%94%D0%90%D0%9B%D0%9E/%D0%A0-347\n",
      "fond,DALO/Р-347,2021,03,9,14:18\n",
      "open_url: https://uk.wikisource.org/wiki/%D0%90%D1%80%D1%85%D1%96%D0%B2:%D0%94%D0%90%D0%9B%D0%9E/%D0%A0-364\n",
      "fond,DALO/Р-364,2021,03,9,14:19\n",
      "open_url: https://uk.wikisource.org/wiki/%D0%90%D1%80%D1%85%D1%96%D0%B2:%D0%94%D0%90%D0%9B%D0%9E/%D0%A0-369\n",
      "fond,DALO/Р-369,2021,03,9,14:20\n",
      "open_url: https://uk.wikisource.org/wiki/%D0%90%D1%80%D1%85%D1%96%D0%B2:%D0%94%D0%90%D0%9B%D0%9E/%D0%A0-370\n",
      "fond,DALO/Р-370,2021,03,9,14:46\n",
      "open_url: https://uk.wikisource.org/wiki/%D0%90%D1%80%D1%85%D1%96%D0%B2:%D0%94%D0%90%D0%9B%D0%9E/%D0%A0-451\n",
      "fond,DALO/Р-451,2021,03,9,14:26\n",
      "open_url: https://uk.wikisource.org/wiki/%D0%90%D1%80%D1%85%D1%96%D0%B2:%D0%94%D0%90%D0%9B%D0%9E/%D0%A0-456\n",
      "fond,DALO/Р-456,2021,03,9,14:27\n",
      "open_url: https://uk.wikisource.org/wiki/%D0%90%D1%80%D1%85%D1%96%D0%B2:%D0%94%D0%90%D0%9B%D0%9E/%D0%A0-461\n",
      "fond,DALO/Р-461,2021,03,9,14:27\n",
      "open_url: https://uk.wikisource.org/wiki/%D0%90%D1%80%D1%85%D1%96%D0%B2:%D0%94%D0%90%D0%9B%D0%9E/%D0%A0-463\n",
      "fond,DALO/Р-463,2021,03,9,14:27\n",
      "open_url: https://uk.wikisource.org/wiki/%D0%90%D1%80%D1%85%D1%96%D0%B2:%D0%94%D0%90%D0%9B%D0%9E/%D0%A0-464\n",
      "fond,DALO/Р-464,2021,03,9,14:32\n",
      "open_url: https://uk.wikisource.org/wiki/%D0%90%D1%80%D1%85%D1%96%D0%B2:%D0%94%D0%90%D0%9B%D0%9E/%D0%A0-465\n",
      "fond,DALO/Р-465,2021,03,9,14:29\n",
      "open_url: https://uk.wikisource.org/wiki/%D0%90%D1%80%D1%85%D1%96%D0%B2:%D0%94%D0%90%D0%9B%D0%9E/%D0%A0-466\n",
      "fond,DALO/Р-466,2021,03,9,14:29\n",
      "open_url: https://uk.wikisource.org/wiki/%D0%90%D1%80%D1%85%D1%96%D0%B2:%D0%94%D0%90%D0%9B%D0%9E/%D0%A0-467\n",
      "fond,DALO/Р-467,2021,03,9,14:30\n",
      "open_url: https://uk.wikisource.org/wiki/%D0%90%D1%80%D1%85%D1%96%D0%B2:%D0%94%D0%90%D0%9B%D0%9E/%D0%A0-468\n",
      "fond,DALO/Р-468,2021,03,9,14:34\n",
      "open_url: https://uk.wikisource.org/wiki/%D0%90%D1%80%D1%85%D1%96%D0%B2:%D0%94%D0%90%D0%9B%D0%9E/%D0%A0-469\n",
      "fond,DALO/Р-469,2021,03,9,14:34\n",
      "open_url: https://uk.wikisource.org/wiki/%D0%90%D1%80%D1%85%D1%96%D0%B2:%D0%94%D0%90%D0%9B%D0%9E/%D0%A0-470\n",
      "fond,DALO/Р-470,2021,03,9,14:35\n",
      "open_url: https://uk.wikisource.org/wiki/%D0%90%D1%80%D1%85%D1%96%D0%B2:%D0%94%D0%90%D0%9B%D0%9E/%D0%A0-471\n",
      "fond,DALO/Р-471,2021,03,9,14:35\n",
      "open_url: https://uk.wikisource.org/wiki/%D0%90%D1%80%D1%85%D1%96%D0%B2:%D0%94%D0%90%D0%9B%D0%9E/%D0%A0-473\n"
     ]
    },
    {
     "name": "stdout",
     "output_type": "stream",
     "text": [
      "fond,DALO/Р-473,2021,03,9,14:36\n",
      "open_url: https://uk.wikisource.org/wiki/%D0%90%D1%80%D1%85%D1%96%D0%B2:%D0%94%D0%90%D0%9B%D0%9E/%D0%A0-790\n",
      "fond,DALO/Р-790,2021,03,9,14:36\n",
      "open_url: https://uk.wikisource.org/wiki/%D0%90%D1%80%D1%85%D1%96%D0%B2:%D0%94%D0%90%D0%9B%D0%9E/%D0%A0-1176\n",
      "fond,DALO/Р-1176,2021,03,9,14:37\n",
      "open_url: https://uk.wikisource.org/wiki/%D0%90%D1%80%D1%85%D1%96%D0%B2:%D0%94%D0%90%D0%9B%D0%9E/%D0%A0-1177\n",
      "fond,DALO/Р-1177,2021,03,9,14:38\n",
      "open_url: https://uk.wikisource.org/wiki/%D0%90%D1%80%D1%85%D1%96%D0%B2:%D0%94%D0%90%D0%9B%D0%9E/%D0%A0-1178\n",
      "fond,DALO/Р-1178,2021,03,9,14:38\n",
      "open_url: https://uk.wikisource.org/wiki/%D0%90%D1%80%D1%85%D1%96%D0%B2:%D0%94%D0%90%D0%9B%D0%9E/%D0%A0-1216\n",
      "fond,DALO/Р-1216,2021,03,9,14:39\n",
      "open_url: https://uk.wikisource.org/wiki/%D0%90%D1%80%D1%85%D1%96%D0%B2:%D0%94%D0%90%D0%9B%D0%9E/%D0%A0-1925\n",
      "fond,DALO/Р-1925,2021,03,9,14:47\n",
      "open_url: https://uk.wikisource.org/wiki/%D0%90%D1%80%D1%85%D1%96%D0%B2:%D0%94%D0%90%D0%9B%D0%9E/%D0%A0-1926\n",
      "fond,DALO/Р-1926,2021,03,9,14:47\n",
      "open_url: https://uk.wikisource.org/wiki/%D0%90%D1%80%D1%85%D1%96%D0%B2:%D0%94%D0%90%D0%9B%D0%9E/%D0%A0-1927\n",
      "fond,DALO/Р-1927,2021,03,9,14:47\n",
      "open_url: https://uk.wikisource.org/wiki/%D0%90%D1%80%D1%85%D1%96%D0%B2:%D0%94%D0%90%D0%9B%D0%9E/%D0%A0-1928\n",
      "fond,DALO/Р-1928,2021,03,9,14:47\n",
      "open_url: https://uk.wikisource.org/wiki/%D0%90%D1%80%D1%85%D1%96%D0%B2:%D0%94%D0%90%D0%9B%D0%9E/%D0%A0-1930\n",
      "fond,DALO/Р-1930,2021,03,9,14:45\n",
      "open_url: https://uk.wikisource.org/wiki/%D0%90%D1%80%D1%85%D1%96%D0%B2:%D0%94%D0%90%D0%9B%D0%9E/%D0%A0-1932\n",
      "fond,DALO/Р-1932,2021,03,9,14:57\n",
      "open_url: https://uk.wikisource.org/wiki/%D0%90%D1%80%D1%85%D1%96%D0%B2:%D0%94%D0%90%D0%9B%D0%9E/%D0%A0-1933\n",
      "fond,DALO/Р-1933,2021,03,9,15:13\n",
      "open_url: https://uk.wikisource.org/wiki/%D0%90%D1%80%D1%85%D1%96%D0%B2:%D0%94%D0%90%D0%9B%D0%9E/%D0%A0-1934\n",
      "fond,DALO/Р-1934,2021,03,9,15:13\n",
      "open_url: https://uk.wikisource.org/wiki/%D0%90%D1%80%D1%85%D1%96%D0%B2:%D0%94%D0%90%D0%9B%D0%9E/%D0%A0-1936\n",
      "fond,DALO/Р-1936,2021,03,9,15:13\n",
      "open_url: https://uk.wikisource.org/wiki/%D0%90%D1%80%D1%85%D1%96%D0%B2:%D0%94%D0%90%D0%9B%D0%9E/%D0%A0-1939\n",
      "fond,DALO/Р-1939,2021,03,9,15:13\n",
      "open_url: https://uk.wikisource.org/wiki/%D0%90%D1%80%D1%85%D1%96%D0%B2:%D0%94%D0%90%D0%9B%D0%9E/%D0%A0-1940\n",
      "fond,DALO/Р-1940,2021,03,9,15:13\n",
      "open_url: https://uk.wikisource.org/wiki/%D0%90%D1%80%D1%85%D1%96%D0%B2:%D0%94%D0%90%D0%9B%D0%9E/%D0%A0-1941\n",
      "fond,DALO/Р-1941,2021,03,9,15:13\n",
      "open_url: https://uk.wikisource.org/wiki/%D0%90%D1%80%D1%85%D1%96%D0%B2:%D0%94%D0%90%D0%9B%D0%9E/%D0%A0-1942\n",
      "fond,DALO/Р-1942,2021,03,9,15:12\n",
      "open_url: https://uk.wikisource.org/wiki/%D0%90%D1%80%D1%85%D1%96%D0%B2:%D0%94%D0%90%D0%9B%D0%9E/%D0%A0-1943\n",
      "fond,DALO/Р-1943,2021,03,9,15:12\n",
      "open_url: https://uk.wikisource.org/wiki/%D0%90%D1%80%D1%85%D1%96%D0%B2:%D0%94%D0%90%D0%9B%D0%9E/%D0%A0-1945\n",
      "fond,DALO/Р-1945,2021,03,9,15:12\n",
      "open_url: https://uk.wikisource.org/wiki/%D0%90%D1%80%D1%85%D1%96%D0%B2:%D0%94%D0%90%D0%9B%D0%9E/%D0%A0-1946\n",
      "fond,DALO/Р-1946,2021,03,9,15:12\n",
      "open_url: https://uk.wikisource.org/wiki/%D0%90%D1%80%D1%85%D1%96%D0%B2:%D0%94%D0%90%D0%9B%D0%9E/%D0%A0-1947\n",
      "fond,DALO/Р-1947,2021,03,9,15:12\n",
      "open_url: https://uk.wikisource.org/wiki/%D0%90%D1%80%D1%85%D1%96%D0%B2:%D0%94%D0%90%D0%9B%D0%9E/%D0%A0-1948\n",
      "fond,DALO/Р-1948,2021,03,9,15:11\n",
      "open_url: https://uk.wikisource.org/wiki/%D0%90%D1%80%D1%85%D1%96%D0%B2:%D0%94%D0%90%D0%9B%D0%9E/%D0%A0-1950\n",
      "fond,DALO/Р-1950,2021,03,9,16:22\n",
      "open_url: https://uk.wikisource.org/wiki/%D0%90%D1%80%D1%85%D1%96%D0%B2:%D0%94%D0%90%D0%9B%D0%9E/%D0%A0-1951\n",
      "fond,DALO/Р-1951,2021,03,9,16:22\n",
      "open_url: https://uk.wikisource.org/wiki/%D0%90%D1%80%D1%85%D1%96%D0%B2:%D0%94%D0%90%D0%9B%D0%9E/%D0%A0-1952\n",
      "fond,DALO/Р-1952,2021,03,9,16:21\n",
      "open_url: https://uk.wikisource.org/wiki/%D0%90%D1%80%D1%85%D1%96%D0%B2:%D0%94%D0%90%D0%9B%D0%9E/%D0%A0-1953\n",
      "fond,DALO/Р-1953,2021,03,9,16:21\n",
      "open_url: https://uk.wikisource.org/wiki/%D0%90%D1%80%D1%85%D1%96%D0%B2:%D0%94%D0%90%D0%9B%D0%9E/%D0%A0-1954\n",
      "fond,DALO/Р-1954,2021,03,9,16:21\n",
      "open_url: https://uk.wikisource.org/wiki/%D0%90%D1%80%D1%85%D1%96%D0%B2:%D0%94%D0%90%D0%9B%D0%9E/%D0%A0-1956\n",
      "fond,DALO/Р-1956,2021,03,9,16:21\n",
      "open_url: https://uk.wikisource.org/wiki/%D0%90%D1%80%D1%85%D1%96%D0%B2:%D0%94%D0%90%D0%9B%D0%9E/%D0%A0-1957\n",
      "fond,DALO/Р-1957,2021,03,9,16:21\n",
      "open_url: https://uk.wikisource.org/wiki/%D0%90%D1%80%D1%85%D1%96%D0%B2:%D0%94%D0%90%D0%9B%D0%9E/%D0%A0-1959\n",
      "fond,DALO/Р-1959,2021,03,9,16:20\n",
      "open_url: https://uk.wikisource.org/wiki/%D0%90%D1%80%D1%85%D1%96%D0%B2:%D0%94%D0%90%D0%9B%D0%9E/%D0%A0-1960\n",
      "fond,DALO/Р-1960,2021,03,9,16:20\n",
      "open_url: https://uk.wikisource.org/wiki/%D0%90%D1%80%D1%85%D1%96%D0%B2:%D0%94%D0%90%D0%9B%D0%9E/%D0%A0-1962\n",
      "fond,DALO/Р-1962,2021,03,9,16:21\n",
      "open_url: https://uk.wikisource.org/wiki/%D0%90%D1%80%D1%85%D1%96%D0%B2:%D0%94%D0%90%D0%9B%D0%9E/%D0%A0-1964\n",
      "fond,DALO/Р-1964,2021,03,9,16:22\n",
      "open_url: https://uk.wikisource.org/wiki/%D0%90%D1%80%D1%85%D1%96%D0%B2:%D0%94%D0%90%D0%9B%D0%9E/%D0%A0-1965\n",
      "fond,DALO/Р-1965,2021,03,9,16:25\n",
      "open_url: https://uk.wikisource.org/wiki/%D0%90%D1%80%D1%85%D1%96%D0%B2:%D0%94%D0%90%D0%9B%D0%9E/%D0%A0-1967\n",
      "fond,DALO/Р-1967,2021,03,9,16:26\n",
      "open_url: https://uk.wikisource.org/wiki/%D0%90%D1%80%D1%85%D1%96%D0%B2:%D0%94%D0%90%D0%9B%D0%9E/%D0%A0-1975\n",
      "fond,DALO/Р-1975,2021,03,9,16:27\n",
      "open_url: https://uk.wikisource.org/wiki/%D0%90%D1%80%D1%85%D1%96%D0%B2:%D0%94%D0%90%D0%9B%D0%9E/%D0%A0-1977\n",
      "fond,DALO/Р-1977,2021,03,9,16:51\n",
      "open_url: https://uk.wikisource.org/wiki/%D0%90%D1%80%D1%85%D1%96%D0%B2:%D0%94%D0%90%D0%9B%D0%9E/%D0%A0-1978\n",
      "fond,DALO/Р-1978,2021,03,9,16:54\n",
      "open_url: https://uk.wikisource.org/wiki/%D0%90%D1%80%D1%85%D1%96%D0%B2:%D0%94%D0%90%D0%9B%D0%9E/%D0%A0-1979\n",
      "fond,DALO/Р-1979,2021,03,9,16:55\n",
      "open_url: https://uk.wikisource.org/wiki/%D0%90%D1%80%D1%85%D1%96%D0%B2:%D0%94%D0%90%D0%9B%D0%9E/%D0%A0-1982\n",
      "fond,DALO/Р-1982,2021,03,9,16:55\n",
      "open_url: https://uk.wikisource.org/wiki/%D0%90%D1%80%D1%85%D1%96%D0%B2:%D0%94%D0%90%D0%9B%D0%9E/%D0%A0-1985\n",
      "fond,DALO/Р-1985,2021,03,9,16:56\n",
      "open_url: https://uk.wikisource.org/wiki/%D0%90%D1%80%D1%85%D1%96%D0%B2:%D0%94%D0%90%D0%9B%D0%9E/%D0%A0-1986\n",
      "fond,DALO/Р-1986,2021,03,9,20:03\n",
      "open_url: https://uk.wikisource.org/wiki/%D0%90%D1%80%D1%85%D1%96%D0%B2:%D0%94%D0%90%D0%9B%D0%9E/%D0%A0-1987\n",
      "fond,DALO/Р-1987,2021,03,9,16:57\n",
      "open_url: https://uk.wikisource.org/wiki/%D0%90%D1%80%D1%85%D1%96%D0%B2:%D0%94%D0%90%D0%9B%D0%9E/%D0%A0-1988\n",
      "fond,DALO/Р-1988,2021,03,9,16:58\n",
      "open_url: https://uk.wikisource.org/wiki/%D0%90%D1%80%D1%85%D1%96%D0%B2:%D0%94%D0%90%D0%9B%D0%9E/%D0%A0-1989\n",
      "fond,DALO/Р-1989,2021,03,9,20:52\n",
      "open_url: https://uk.wikisource.org/wiki/%D0%90%D1%80%D1%85%D1%96%D0%B2:%D0%94%D0%90%D0%9B%D0%9E/%D0%A0-1991\n",
      "fond,DALO/Р-1991,2021,03,9,20:54\n",
      "open_url: https://uk.wikisource.org/wiki/%D0%90%D1%80%D1%85%D1%96%D0%B2:%D0%94%D0%90%D0%9B%D0%9E/%D0%A0-2023\n",
      "fond,DALO/Р-2023,2021,03,9,20:54\n",
      "open_url: https://uk.wikisource.org/wiki/%D0%90%D1%80%D1%85%D1%96%D0%B2:%D0%94%D0%90%D0%9B%D0%9E/%D0%A0-2027\n",
      "fond,DALO/Р-2027,2021,03,9,20:55\n",
      "open_url: https://uk.wikisource.org/wiki/%D0%90%D1%80%D1%85%D1%96%D0%B2:%D0%94%D0%90%D0%9B%D0%9E/%D0%A0-2042\n",
      "fond,DALO/Р-2042,2021,03,8,16:03\n",
      "open_url: https://uk.wikisource.org/wiki/%D0%90%D1%80%D1%85%D1%96%D0%B2:%D0%94%D0%90%D0%9B%D0%9E/%D0%A0-2048\n",
      "fond,DALO/Р-2048,2021,03,8,15:54\n",
      "open_url: https://uk.wikisource.org/wiki/%D0%90%D1%80%D1%85%D1%96%D0%B2:%D0%94%D0%90%D0%9B%D0%9E/%D0%A0-3164\n",
      "fond,DALO/Р-3164,2021,03,8,14:39\n",
      "open_url: https://uk.wikisource.org/wiki/%D0%90%D1%80%D1%85%D1%96%D0%B2%3A%D0%94%D0%90%D0%9B%D0%9E/%D0%9F\n",
      "archive,DALO/П,2021,03,3,18:33\n",
      "open_url: https://uk.wikisource.org/wiki/%D0%90%D1%80%D1%85%D1%96%D0%B2:%D0%94%D0%90%D0%9B%D0%9E/%D0%9F-1\n",
      "fond,DALO/П-1,2021,03,3,19:36\n",
      "open_url: https://uk.wikisource.org/wiki/%D0%90%D1%80%D1%85%D1%96%D0%B2:%D0%94%D0%90%D0%9B%D0%9E/%D0%9F-2\n",
      "fond,DALO/П-2,2021,03,3,19:48\n",
      "open_url: https://uk.wikisource.org/wiki/%D0%90%D1%80%D1%85%D1%96%D0%B2:%D0%94%D0%90%D0%9B%D0%9E/%D0%9F-3\n",
      "fond,DALO/П-3,2021,03,3,21:25\n",
      "open_url: https://uk.wikisource.org/wiki/%D0%90%D1%80%D1%85%D1%96%D0%B2:%D0%94%D0%90%D0%9B%D0%9E/%D0%9F-3/62\n",
      "opus,DALO/П-3/62,2021,03,8,23:33\n",
      "open_url: https://uk.wikisource.org/wiki/%D0%90%D1%80%D1%85%D1%96%D0%B2:%D0%94%D0%90%D0%9B%D0%9E/%D0%9F-3/62/750\n"
     ]
    },
    {
     "name": "stdout",
     "output_type": "stream",
     "text": [
      "case,DALO/П-3/62/750,2021,03,8,23:33\n",
      "open_url: https://uk.wikisource.org/wiki/%D0%90%D1%80%D1%85%D1%96%D0%B2:%D0%94%D0%90%D0%9B%D0%9E/%D0%9F-3/62/830\n",
      "case,DALO/П-3/62/830,2021,03,20,16:57\n",
      "open_url: https://uk.wikisource.org/wiki/%D0%90%D1%80%D1%85%D1%96%D0%B2:%D0%94%D0%90%D0%9B%D0%9E/%D0%9F-4\n",
      "fond,DALO/П-4,2021,03,3,19:54\n",
      "open_url: https://uk.wikisource.org/wiki/%D0%90%D1%80%D1%85%D1%96%D0%B2:%D0%94%D0%90%D0%9B%D0%9E/%D0%9F-5\n",
      "fond,DALO/П-5,2021,03,3,19:56\n",
      "open_url: https://uk.wikisource.org/wiki/%D0%90%D1%80%D1%85%D1%96%D0%B2:%D0%94%D0%90%D0%9B%D0%9E/%D0%9F-6\n",
      "fond,DALO/П-6,2021,03,3,19:57\n",
      "open_url: https://uk.wikisource.org/wiki/%D0%90%D1%80%D1%85%D1%96%D0%B2:%D0%94%D0%90%D0%9B%D0%9E/%D0%9F-7\n",
      "fond,DALO/П-7,2021,03,3,19:29\n",
      "open_url: https://uk.wikisource.org/wiki/%D0%90%D1%80%D1%85%D1%96%D0%B2:%D0%94%D0%90%D0%9B%D0%9E/%D0%9F-16\n",
      "fond,DALO/П-16,2021,03,3,19:49\n"
     ]
    }
   ],
   "source": [
    "for sub in subarchives:\n",
    "    scan_archive(Archive('DALO', subarchive=sub))"
   ]
  },
  {
   "cell_type": "code",
   "execution_count": null,
   "metadata": {},
   "outputs": [],
   "source": []
  },
  {
   "cell_type": "code",
   "execution_count": null,
   "metadata": {},
   "outputs": [],
   "source": []
  },
  {
   "cell_type": "code",
   "execution_count": null,
   "metadata": {},
   "outputs": [],
   "source": []
  },
  {
   "cell_type": "code",
   "execution_count": null,
   "metadata": {},
   "outputs": [],
   "source": [
    "type(ImportError)"
   ]
  },
  {
   "cell_type": "code",
   "execution_count": null,
   "metadata": {},
   "outputs": [],
   "source": []
  },
  {
   "cell_type": "code",
   "execution_count": null,
   "metadata": {},
   "outputs": [],
   "source": []
  },
  {
   "cell_type": "code",
   "execution_count": null,
   "metadata": {},
   "outputs": [],
   "source": []
  },
  {
   "cell_type": "code",
   "execution_count": null,
   "metadata": {},
   "outputs": [],
   "source": []
  },
  {
   "cell_type": "code",
   "execution_count": null,
   "metadata": {},
   "outputs": [],
   "source": []
  },
  {
   "cell_type": "code",
   "execution_count": null,
   "metadata": {},
   "outputs": [],
   "source": []
  },
  {
   "cell_type": "code",
   "execution_count": null,
   "metadata": {},
   "outputs": [],
   "source": []
  },
  {
   "cell_type": "code",
   "execution_count": null,
   "metadata": {},
   "outputs": [],
   "source": []
  },
  {
   "cell_type": "code",
   "execution_count": null,
   "metadata": {},
   "outputs": [],
   "source": []
  },
  {
   "cell_type": "code",
   "execution_count": null,
   "metadata": {},
   "outputs": [],
   "source": []
  },
  {
   "cell_type": "code",
   "execution_count": null,
   "metadata": {},
   "outputs": [],
   "source": []
  },
  {
   "cell_type": "code",
   "execution_count": null,
   "metadata": {},
   "outputs": [],
   "source": []
  },
  {
   "cell_type": "code",
   "execution_count": null,
   "metadata": {},
   "outputs": [],
   "source": []
  },
  {
   "cell_type": "code",
   "execution_count": null,
   "metadata": {},
   "outputs": [],
   "source": []
  },
  {
   "cell_type": "code",
   "execution_count": null,
   "metadata": {},
   "outputs": [],
   "source": []
  },
  {
   "cell_type": "code",
   "execution_count": null,
   "metadata": {},
   "outputs": [],
   "source": []
  }
 ],
 "metadata": {
  "kernelspec": {
   "display_name": "Python 3",
   "language": "python",
   "name": "python3"
  },
  "language_info": {
   "codemirror_mode": {
    "name": "ipython",
    "version": 3
   },
   "file_extension": ".py",
   "mimetype": "text/x-python",
   "name": "python",
   "nbconvert_exporter": "python",
   "pygments_lexer": "ipython3",
   "version": "3.8.5"
  }
 },
 "nbformat": 4,
 "nbformat_minor": 4
}
