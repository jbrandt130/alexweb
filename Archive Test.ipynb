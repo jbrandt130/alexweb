{
 "cells": [
  {
   "cell_type": "code",
   "execution_count": 1,
   "metadata": {},
   "outputs": [],
   "source": [
    "from archivescraper import *\n",
    "import pandas as pd"
   ]
  },
  {
   "cell_type": "code",
   "execution_count": 2,
   "metadata": {},
   "outputs": [
    {
     "data": {
      "text/plain": [
       "{'DAZHO': 'Архів:ДАЖО'}"
      ]
     },
     "execution_count": 2,
     "metadata": {},
     "output_type": "execute_result"
    }
   ],
   "source": [
    "archive_list"
   ]
  },
  {
   "cell_type": "code",
   "execution_count": 3,
   "metadata": {},
   "outputs": [
    {
     "name": "stdout",
     "output_type": "stream",
     "text": [
      "open_url: https://uk.wikisource.org/wiki/%D0%90%D1%80%D1%85%D1%96%D0%B2%3A%D0%94%D0%90%D0%96%D0%9E/%D0%94\n",
      "read_html tables: 4 [          0                                                  1  \\\n",
      "0  (, None)  (Архів:ДАЖО Державний архів Житомирської облас...   \n",
      "\n",
      "                                                   2  \n",
      "0  (Р — Фонди радянського періоду та Незалежної У...  ,                                                    0         1\n",
      "0  (https://zhytomyr.archives.gov.ua/?page_id=276...       NaN\n",
      "1  (https://zhytomyr.archives.gov.ua/?page_id=276...  (, None),                                                    0         1\n",
      "0  (https://zhytomyr.archives.gov.ua/?page_id=276...  (, None),                                              (№, None)  \\\n",
      "0    (1, /wiki/%D0%90%D1%80%D1%85%D1%96%D0%B2:%D0%9...   \n",
      "1    (2, /wiki/%D0%90%D1%80%D1%85%D1%96%D0%B2:%D0%9...   \n",
      "2    (3, /wiki/%D0%90%D1%80%D1%85%D1%96%D0%B2:%D0%9...   \n",
      "3    (4, /wiki/%D0%90%D1%80%D1%85%D1%96%D0%B2:%D0%9...   \n",
      "4    (9, /wiki/%D0%90%D1%80%D1%85%D1%96%D0%B2:%D0%9...   \n",
      "..                                                 ...   \n",
      "470  (748, /wiki/%D0%90%D1%80%D1%85%D1%96%D0%B2:%D0...   \n",
      "471  (749, /wiki/%D0%90%D1%80%D1%85%D1%96%D0%B2:%D0...   \n",
      "472  (750, /wiki/%D0%90%D1%80%D1%85%D1%96%D0%B2:%D0...   \n",
      "473  (751, /wiki/%D0%90%D1%80%D1%85%D1%96%D0%B2:%D0...   \n",
      "474  (752, /wiki/%D0%90%D1%80%D1%85%D1%96%D0%B2:%D0...   \n",
      "\n",
      "                                   (Назва фонду, None) (Крайні дати, None)  \\\n",
      "0    (Волинська духовна консисторія м. Житомир, Вол...   (1741–1921, None)   \n",
      "1    (Житомирський повітовий суд м. Житомир, Волинс...   (1795-1872, None)   \n",
      "2    (Житомирський городовий магістрат м. Житомир, ...   (1800–1849, None)   \n",
      "3    (Житомирська дворянська опіка м. Житомир, Воли...   (1819-1871, None)   \n",
      "4    (Новоград-Волинський городовий магістрат м. Но...   (1804-1861, None)   \n",
      "..                                                 ...                 ...   \n",
      "470  (Іршанське поштово-телеграфне відділення Київс...   (1895-1918, None)   \n",
      "471  (Стремигородська поштово-телеграфна контора Ки...        (1916, None)   \n",
      "472  (Паволоцька міщанська управа м-ко Паволоч, Скв...   (1907-1915, None)   \n",
      "473  (Колекція Талмуд-Тор м. Житомир, Житомирської ...            (, None)   \n",
      "474  (Колекція картографічних матеріалів м. Житомир...   (1799-1943, None)   \n",
      "\n",
      "    (Справ, None)  \n",
      "0        (, None)  \n",
      "1    (1280, None)  \n",
      "2     (201, None)  \n",
      "3     (781, None)  \n",
      "4     (390, None)  \n",
      "..            ...  \n",
      "470    (11, None)  \n",
      "471     (1, None)  \n",
      "472    (13, None)  \n",
      "473    (74, None)  \n",
      "474   (166, None)  \n",
      "\n",
      "[475 rows x 4 columns]]\n",
      "archive,DAZHO/Д,2025,01,19,12:47\n"
     ]
    }
   ],
   "source": [
    "a=Archive('DAZHO')\n",
    "print(a.report)"
   ]
  },
  {
   "cell_type": "code",
   "execution_count": 4,
   "metadata": {},
   "outputs": [
    {
     "name": "stdout",
     "output_type": "stream",
     "text": [
      "https://uk.wikisource.org/wiki/%D0%90%D1%80%D1%85%D1%96%D0%B2%3A%D0%94%D0%90%D0%96%D0%9E/%D0%94\n"
     ]
    }
   ],
   "source": [
    "print(a.url)"
   ]
  },
  {
   "cell_type": "code",
   "execution_count": 5,
   "metadata": {},
   "outputs": [
    {
     "name": "stdout",
     "output_type": "stream",
     "text": [
      "open_url: https://uk.wikisource.org/wiki/%D0%90%D1%80%D1%85%D1%96%D0%B2:%D0%94%D0%90%D0%96%D0%9E/1\n",
      "read_html tables: 3 [          0                                                  1  \\\n",
      "0  (, None)  (ДАЖО/Д 1. Волинська духовна консисторія м. Жи...   \n",
      "\n",
      "                                                   2  \n",
      "0  (2→, /wiki/%D0%90%D1%80%D1%85%D1%96%D0%B2:%D0%...  ,           0\n",
      "0  (, None),                                             (№, None)  \\\n",
      "0   (1, /wiki/%D0%90%D1%80%D1%85%D1%96%D0%B2:%D0%9...   \n",
      "1   (2, /wiki/%D0%90%D1%80%D1%85%D1%96%D0%B2:%D0%9...   \n",
      "2   (3, /wiki/%D0%90%D1%80%D1%85%D1%96%D0%B2:%D0%9...   \n",
      "3   (4, /wiki/%D0%90%D1%80%D1%85%D1%96%D0%B2:%D0%9...   \n",
      "4   (5, /wiki/%D0%90%D1%80%D1%85%D1%96%D0%B2:%D0%9...   \n",
      "..                                                ...   \n",
      "86  (87, /wiki/%D0%90%D1%80%D1%85%D1%96%D0%B2:%D0%...   \n",
      "87  (88, /wiki/%D0%90%D1%80%D1%85%D1%96%D0%B2:%D0%...   \n",
      "88  (89, /wiki/%D0%90%D1%80%D1%85%D1%96%D0%B2:%D0%...   \n",
      "89  (90, /wiki/%D0%90%D1%80%D1%85%D1%96%D0%B2:%D0%...   \n",
      "90  (91, /wiki/%D0%90%D1%80%D1%85%D1%96%D0%B2:%D0%...   \n",
      "\n",
      "                                     (Анотація, None) (Крайні дати, None)  \\\n",
      "0   (Укази, рапорти, повідомлення, резолюції Синод...   (1790–1799, None)   \n",
      "1   (Укази Синоду, Сенату, розпорядження консистор...   (1800–1805, None)   \n",
      "2   (Укази, рапорти, повідомлення духовної консист...   (1806–1812, None)   \n",
      "3   (Укази, рапорти, повідомлення духовної консист...   (1813–1819, None)   \n",
      "4   (Укази, рапорти, повідомлення духовного правлі...   (1820–1826, None)   \n",
      "..                                                ...                 ...   \n",
      "86  (Метричні книги Житомирського, Овруцького, Ост...   (1796–1879, None)   \n",
      "87  (Прибутково-видаткова книга церкви с. Сковород...   (1803–1877, None)   \n",
      "88  (Справи по обвинуваченню священиків по зловжив...   (1805–1910, None)   \n",
      "89  (Укази Синоду. Рапорти священиків і настоятелі...   (1799–1892, None)   \n",
      "90  (Метричні книги Новоград-Волинського, Старокос...   (1772–1916, None)   \n",
      "\n",
      "   (Справ, None)  \n",
      "0   (2057, None)  \n",
      "1   (1318, None)  \n",
      "2   (1311, None)  \n",
      "3    (683, None)  \n",
      "4    (833, None)  \n",
      "..           ...  \n",
      "86    (12, None)  \n",
      "87     (6, None)  \n",
      "88    (66, None)  \n",
      "89    (89, None)  \n",
      "90   (250, None)  \n",
      "\n",
      "[91 rows x 4 columns]]\n",
      "fond,Архів:ДАЖО/Д/1,2024,09,12,08:41\n"
     ]
    }
   ],
   "source": [
    "f = a.lookup('1')\n",
    "print(f.report)"
   ]
  },
  {
   "cell_type": "code",
   "execution_count": 6,
   "metadata": {},
   "outputs": [
    {
     "name": "stdout",
     "output_type": "stream",
     "text": [
      "open_url: https://uk.wikisource.org/wiki/%D0%90%D1%80%D1%85%D1%96%D0%B2:%D0%94%D0%90%D0%96%D0%9E/1/1\n",
      "read_html tables: 3 [          0                                                  1  \\\n",
      "0  (, None)  (ДАЖО/1 (1790–1799) 1. Укази, рапорти, повідом...   \n",
      "\n",
      "                                                   2  \n",
      "0  (2→, /wiki/%D0%90%D1%80%D1%85%D1%96%D0%B2:%D0%...  ,                                                    0\n",
      "0  (ДАЖО фонд 1, опис 1, https://commons.wikimedi...,                                             (№, None)  \\\n",
      "0   (1, /w/index.php?title=%D0%90%D1%80%D1%85%D1%9...   \n",
      "1   (2, /w/index.php?title=%D0%90%D1%80%D1%85%D1%9...   \n",
      "2   (3, /w/index.php?title=%D0%90%D1%80%D1%85%D1%9...   \n",
      "3   (4, /w/index.php?title=%D0%90%D1%80%D1%85%D1%9...   \n",
      "4   (21, /w/index.php?title=%D0%90%D1%80%D1%85%D1%...   \n",
      "5   (22, /w/index.php?title=%D0%90%D1%80%D1%85%D1%...   \n",
      "6   (25, /w/index.php?title=%D0%90%D1%80%D1%85%D1%...   \n",
      "7   (43, /wiki/%D0%90%D1%80%D1%85%D1%96%D0%B2:%D0%...   \n",
      "8   (111, /wiki/%D0%90%D1%80%D1%85%D1%96%D0%B2:%D0...   \n",
      "9   (119, /wiki/%D0%90%D1%80%D1%85%D1%96%D0%B2:%D0...   \n",
      "10  (198, /wiki/%D0%90%D1%80%D1%85%D1%96%D0%B2:%D0...   \n",
      "11  (376, /wiki/%D0%90%D1%80%D1%85%D1%96%D0%B2:%D0...   \n",
      "\n",
      "                                        (Назва, None) (Крайні дати, None)  \\\n",
      "0                (О браках в родствах духовных, None)        (1790, None)   \n",
      "1   (Рапорты вишедшия разных содержаний особливо з...        (1794, None)   \n",
      "2   (По донесению благочинного протоирея Радзивило...        (1795, None)   \n",
      "3                  (кандидата Данилы Васильева, None)        (1795, None)   \n",
      "4   (По указу Духовной консистории о подавании в о...        (1795, None)   \n",
      "5   (По указу Житомирской Духовной консистории о и...        (1795, None)   \n",
      "6   (О присоединении жителей села Денишов из унии ...        (1795, None)   \n",
      "7   (По донесению духовных правлений о умертвии св...        (1796, None)   \n",
      "8   (По репорту Благочиннаго Протоиерея Иоанна Боч...        (1795, None)   \n",
      "9   (По доношению Протоиерея Андрея Колтоновскаго ...        (1795, None)   \n",
      "10  (О дозволении священническому сыну Иоакиму Бло...        (1796, None)   \n",
      "11  (О присоединении из Унии к православному греко...        (1796, None)   \n",
      "\n",
      "   (Аркуші, None) (Примітки, None)  \n",
      "0     (327, None)         (, None)  \n",
      "1      (78, None)         (, None)  \n",
      "2        (, None)         (, None)  \n",
      "3        (, None)         (, None)  \n",
      "4        (, None)         (, None)  \n",
      "5        (, None)         (, None)  \n",
      "6        (, None)         (, None)  \n",
      "7      (64, None)         (, None)  \n",
      "8      (96, None)         (, None)  \n",
      "9       (8, None)         (, None)  \n",
      "10     (16, None)         (, None)  \n",
      "11    (352, None)         (, None)  ]\n",
      "opus,Архів:ДАЖО/Д/1/1,2025,01,18,17:20\n",
      "5\n"
     ]
    }
   ],
   "source": [
    "o = f.lookup('1')\n",
    "print(o.report)\n",
    "print(len(o.children))"
   ]
  },
  {
   "cell_type": "code",
   "execution_count": 7,
   "metadata": {},
   "outputs": [
    {
     "name": "stdout",
     "output_type": "stream",
     "text": [
      "open_url: https://uk.wikisource.org/wiki/%D0%90%D1%80%D1%85%D1%96%D0%B2:%D0%94%D0%90%D0%96%D0%9E/1/1/43\n",
      "case,Архів:ДАЖО/Д/1/1/43,2024,11,16,19:58\n"
     ]
    }
   ],
   "source": [
    "c = Case(o.children[0], o)\n",
    "print(c.report)"
   ]
  },
  {
   "cell_type": "code",
   "execution_count": null,
   "metadata": {},
   "outputs": [],
   "source": [
    "print(o.children)"
   ]
  },
  {
   "cell_type": "code",
   "execution_count": null,
   "metadata": {},
   "outputs": [],
   "source": []
  },
  {
   "cell_type": "code",
   "execution_count": null,
   "metadata": {},
   "outputs": [],
   "source": [
    "def scan_fond(fond):\n",
    "    for o in range(len(fond.children)):\n",
    "        opus = Opus(f.children[o], fond)\n",
    "        print(opus.report)\n",
    "        for c in range(len(opus.children)):\n",
    "            case = Case(opus.children[c], opus)\n",
    "            print(case.report)    "
   ]
  },
  {
   "cell_type": "code",
   "execution_count": null,
   "metadata": {},
   "outputs": [],
   "source": [
    "scan_fond(a.lookup('2'))"
   ]
  },
  {
   "cell_type": "code",
   "execution_count": null,
   "metadata": {},
   "outputs": [],
   "source": [
    "archive = Archive('DAKO', subarchive=subarchives[1])\n",
    "print(archive.report)"
   ]
  },
  {
   "cell_type": "code",
   "execution_count": null,
   "metadata": {},
   "outputs": [],
   "source": [
    "for sub in subarchives:\n",
    "    scan_archive(Archive('DAMO', subarchive=sub))"
   ]
  },
  {
   "cell_type": "code",
   "execution_count": null,
   "metadata": {},
   "outputs": [],
   "source": [
    "file1 = '2023-05-25 19:19:10.375664/DAKO.csv'\n",
    "file2 = '2023-06-26 07:59:55.548334/DAKO.csv'\n",
    "data = './var'"
   ]
  },
  {
   "cell_type": "code",
   "execution_count": null,
   "metadata": {},
   "outputs": [],
   "source": [
    "def form_date(df):\n",
    "    df['date'] = df['year'] + ':' + df['month'] + ':' + df['day'] + ':' + df['hour']\n",
    "    return df\n",
    "\n",
    "def load_report(fname, data_dir=data):\n",
    "    df = pd.read_csv(f'{data_dir}/{fname}', \n",
    "                     names=['type', 'id', 'year', 'month', 'day', 'hour'],\n",
    "                     dtype=str)\n",
    "    df = form_date(df)\n",
    "    df = df.drop(columns=['year', 'month', 'day', 'hour'])\n",
    "    df = df.replace({0: ''})\n",
    "    return df.set_index(['id'])\n",
    "\n",
    "def check_changes(df1, df2):\n",
    "    df = df1.join(df2, how='outer', lsuffix='1', rsuffix='2').fillna('')\n",
    "    return df[df['date1'] != df['date2']]"
   ]
  },
  {
   "cell_type": "code",
   "execution_count": null,
   "metadata": {},
   "outputs": [],
   "source": [
    "df1 = load_report(file1)\n",
    "df2 = load_report(file2)"
   ]
  },
  {
   "cell_type": "code",
   "execution_count": null,
   "metadata": {},
   "outputs": [],
   "source": [
    "changes = check_changes(df1, df2)"
   ]
  },
  {
   "cell_type": "code",
   "execution_count": null,
   "metadata": {},
   "outputs": [],
   "source": [
    "len(changes)"
   ]
  },
  {
   "cell_type": "code",
   "execution_count": null,
   "metadata": {},
   "outputs": [],
   "source": [
    "changes"
   ]
  },
  {
   "cell_type": "code",
   "execution_count": null,
   "metadata": {},
   "outputs": [],
   "source": [
    "for index, row in changes.iterrows():\n",
    "    print(index, len(row['date2']))"
   ]
  },
  {
   "cell_type": "code",
   "execution_count": null,
   "metadata": {},
   "outputs": [],
   "source": [
    "changes[(changes['date2']!='') & (changes['date1']!='')]"
   ]
  },
  {
   "cell_type": "code",
   "execution_count": null,
   "metadata": {},
   "outputs": [],
   "source": [
    "df1"
   ]
  },
  {
   "cell_type": "code",
   "execution_count": null,
   "metadata": {},
   "outputs": [],
   "source": []
  },
  {
   "cell_type": "code",
   "execution_count": null,
   "metadata": {},
   "outputs": [],
   "source": []
  }
 ],
 "metadata": {
  "kernelspec": {
   "display_name": "Python 3 (ipykernel)",
   "language": "python",
   "name": "python3"
  },
  "language_info": {
   "codemirror_mode": {
    "name": "ipython",
    "version": 3
   },
   "file_extension": ".py",
   "mimetype": "text/x-python",
   "name": "python",
   "nbconvert_exporter": "python",
   "pygments_lexer": "ipython3",
   "version": "3.11.5"
  }
 },
 "nbformat": 4,
 "nbformat_minor": 4
}
